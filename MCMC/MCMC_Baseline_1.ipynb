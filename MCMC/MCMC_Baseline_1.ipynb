{
  "nbformat": 4,
  "nbformat_minor": 0,
  "metadata": {
    "colab": {
      "provenance": []
    },
    "kernelspec": {
      "name": "python3",
      "display_name": "Python 3"
    },
    "language_info": {
      "name": "python"
    }
  },
  "cells": [
    {
      "cell_type": "markdown",
      "source": [
        "##**Gerrymandering-Environment**\n",
        "\n",
        "    INITIAL STATE (provided externally via reset(options=...)):\n",
        "        - 'district_map'\n",
        "        - 'social_graph'\n",
        "        - 'opinions'     \n",
        "\n",
        "    ACTION:\n",
        "        - new district assignment for each voter\n",
        "\n",
        "    OBSERVATION (returned by reset/step):\n",
        "        {\n",
        "          'district_map'   : (num_voters,)\n",
        "          'representatives': (num_districts,)  # voter indices; -1 if empty district\n",
        "          'social_graph'   : (num_voters, num_voters)  # AUGMENTED: base social + rep->voter edges used for the step\n",
        "          'opinions'       : (num_voters, 2)\n",
        "          'opinion_graph'  : (num_voters, num_voters)  # similarity kernel derived from opinion distances\n",
        "        }\n",
        "\n",
        "    KEY LOGIC:\n",
        "      - Representatives: for each district, pick the member that minimizes the sum of L2 distances to members in that district (discrete 1-median).\n",
        "      - Opinion dynamics: DRF (assimilation/neutral/backfire) with weighted neighbor influence.\n",
        "      - Reward: reduction in total distance to reference opinion c*\n",
        "\n",
        "    Notes:\n",
        "      - Opinion weight = 1\n",
        "      - Opinion dimension is fixed at 2.\n",
        "      - We accept any districting action"
      ],
      "metadata": {
        "id": "YVPu0WeaABON"
      }
    },
    {
      "cell_type": "code",
      "source": [
        "!pip install torch_geometric"
      ],
      "metadata": {
        "colab": {
          "base_uri": "https://localhost:8080/"
        },
        "id": "j7PJyuKxNG26",
        "outputId": "87d9d8db-1526-4b0a-9713-45039646c0d0"
      },
      "execution_count": 1,
      "outputs": [
        {
          "output_type": "stream",
          "name": "stdout",
          "text": [
            "Requirement already satisfied: torch_geometric in /usr/local/lib/python3.12/dist-packages (2.6.1)\n",
            "Requirement already satisfied: aiohttp in /usr/local/lib/python3.12/dist-packages (from torch_geometric) (3.12.15)\n",
            "Requirement already satisfied: fsspec in /usr/local/lib/python3.12/dist-packages (from torch_geometric) (2025.3.0)\n",
            "Requirement already satisfied: jinja2 in /usr/local/lib/python3.12/dist-packages (from torch_geometric) (3.1.6)\n",
            "Requirement already satisfied: numpy in /usr/local/lib/python3.12/dist-packages (from torch_geometric) (2.0.2)\n",
            "Requirement already satisfied: psutil>=5.8.0 in /usr/local/lib/python3.12/dist-packages (from torch_geometric) (5.9.5)\n",
            "Requirement already satisfied: pyparsing in /usr/local/lib/python3.12/dist-packages (from torch_geometric) (3.2.4)\n",
            "Requirement already satisfied: requests in /usr/local/lib/python3.12/dist-packages (from torch_geometric) (2.32.4)\n",
            "Requirement already satisfied: tqdm in /usr/local/lib/python3.12/dist-packages (from torch_geometric) (4.67.1)\n",
            "Requirement already satisfied: aiohappyeyeballs>=2.5.0 in /usr/local/lib/python3.12/dist-packages (from aiohttp->torch_geometric) (2.6.1)\n",
            "Requirement already satisfied: aiosignal>=1.4.0 in /usr/local/lib/python3.12/dist-packages (from aiohttp->torch_geometric) (1.4.0)\n",
            "Requirement already satisfied: attrs>=17.3.0 in /usr/local/lib/python3.12/dist-packages (from aiohttp->torch_geometric) (25.3.0)\n",
            "Requirement already satisfied: frozenlist>=1.1.1 in /usr/local/lib/python3.12/dist-packages (from aiohttp->torch_geometric) (1.7.0)\n",
            "Requirement already satisfied: multidict<7.0,>=4.5 in /usr/local/lib/python3.12/dist-packages (from aiohttp->torch_geometric) (6.6.4)\n",
            "Requirement already satisfied: propcache>=0.2.0 in /usr/local/lib/python3.12/dist-packages (from aiohttp->torch_geometric) (0.3.2)\n",
            "Requirement already satisfied: yarl<2.0,>=1.17.0 in /usr/local/lib/python3.12/dist-packages (from aiohttp->torch_geometric) (1.20.1)\n",
            "Requirement already satisfied: MarkupSafe>=2.0 in /usr/local/lib/python3.12/dist-packages (from jinja2->torch_geometric) (3.0.2)\n",
            "Requirement already satisfied: charset_normalizer<4,>=2 in /usr/local/lib/python3.12/dist-packages (from requests->torch_geometric) (3.4.3)\n",
            "Requirement already satisfied: idna<4,>=2.5 in /usr/local/lib/python3.12/dist-packages (from requests->torch_geometric) (3.10)\n",
            "Requirement already satisfied: urllib3<3,>=1.21.1 in /usr/local/lib/python3.12/dist-packages (from requests->torch_geometric) (2.5.0)\n",
            "Requirement already satisfied: certifi>=2017.4.17 in /usr/local/lib/python3.12/dist-packages (from requests->torch_geometric) (2025.8.3)\n",
            "Requirement already satisfied: typing-extensions>=4.2 in /usr/local/lib/python3.12/dist-packages (from aiosignal>=1.4.0->aiohttp->torch_geometric) (4.15.0)\n"
          ]
        }
      ]
    },
    {
      "cell_type": "code",
      "source": [
        "import numpy as np\n",
        "import torch\n",
        "from torch_geometric.data import Data\n",
        "import gymnasium as gym\n",
        "from gymnasium import spaces\n",
        "import gerry_environment_12"
      ],
      "metadata": {
        "id": "ErlKBfKcRnP7"
      },
      "execution_count": 2,
      "outputs": []
    },
    {
      "cell_type": "code",
      "source": [],
      "metadata": {
        "id": "SVTh7C79jybC"
      },
      "execution_count": 2,
      "outputs": []
    },
    {
      "cell_type": "code",
      "source": [
        "import copy\n",
        "import numpy as np\n",
        "\n",
        "def simulated_annealing_baseline(env, num_iterations=500,\n",
        "                                 initial_beta=0.1, cooling_rate=1.01, rng=None):\n",
        "    if rng is None:\n",
        "        rng = np.random.default_rng()\n",
        "\n",
        "    # initialize\n",
        "    current_assignment = np.eye(env.num_districts)[\n",
        "        rng.integers(0, env.num_districts, size=env.num_voters)\n",
        "    ]\n",
        "\n",
        "    # evaluate initial plan\n",
        "    saved_state = copy.deepcopy(env.FrankenData)\n",
        "    _, current_reward, _, _, _ = env.step(current_assignment)\n",
        "\n",
        "    env.FrankenData = saved_state  # revert so we don’t advance time\n",
        "    best_assignment = current_assignment.copy()\n",
        "    best_reward = current_reward\n",
        "\n",
        "    beta = initial_beta\n",
        "\n",
        "    for _ in range(num_iterations):\n",
        "        # propose\n",
        "        proposal_assignment = current_assignment.copy()\n",
        "        voter = rng.integers(0, env.num_voters)\n",
        "        new_d = rng.integers(0, env.num_districts)\n",
        "        proposal_assignment[voter, :] = 0\n",
        "        proposal_assignment[voter, new_d] = 1.0\n",
        "\n",
        "        # evaluate\n",
        "        saved_state = copy.deepcopy(env.FrankenData)\n",
        "        _, proposal_reward, _, _, _ = env.step(proposal_assignment)\n",
        "        env.FrankenData = saved_state  # revert to current accepted state\n",
        "\n",
        "        # acceptance\n",
        "        if (proposal_reward > current_reward or\n",
        "            rng.random() < np.exp(beta * (proposal_reward - current_reward))):\n",
        "            current_assignment = proposal_assignment\n",
        "            current_reward = proposal_reward\n",
        "            if current_reward > best_reward:\n",
        "                best_assignment = current_assignment.copy()\n",
        "                best_reward = current_reward\n",
        "\n",
        "        # cool\n",
        "        beta *= cooling_rate\n",
        "\n",
        "    return best_assignment, best_reward\n"
      ],
      "metadata": {
        "id": "xeTotQyStnh2"
      },
      "execution_count": 3,
      "outputs": []
    },
    {
      "cell_type": "code",
      "source": [
        "import numpy as np\n",
        "import torch\n",
        "from torch_geometric.data import Data\n",
        "\n",
        "num_voters = 6\n",
        "num_districts = 2\n",
        "opinion_dim = 2\n",
        "orig_edge_num = 8\n",
        "\n",
        "# 1. Opinions: 2D (num_voters, opinion_dim)\n",
        "opinions = np.random.randn(num_voters, opinion_dim).astype(np.float32)\n",
        "\n",
        "# 2. Positions: 2D coordinates\n",
        "positions = np.random.rand(num_voters, 2).astype(np.float32)\n",
        "\n",
        "# 3. District labels: assign evenly\n",
        "dist_labels = np.array([i % num_districts for i in range(num_voters)], dtype=np.int32)\n",
        "\n",
        "# 4. Representatives: first voter in each district\n",
        "reps = np.array([np.where(dist_labels == d)[0][0] for d in range(num_districts)], dtype=np.int32)\n",
        "\n",
        "# 5. Social edges: random edges, avoid self-loops\n",
        "src = np.random.randint(0, num_voters, size=orig_edge_num*2)\n",
        "dst = np.random.randint(0, num_voters, size=orig_edge_num*2)\n",
        "mask = src != dst\n",
        "src, dst = src[mask][:orig_edge_num], dst[mask][:orig_edge_num]  # keep exact number\n",
        "social_edge_index = np.vstack([src, dst])\n",
        "\n",
        "# 6. Edge attributes: random positive weights\n",
        "edge_attr = np.random.rand(orig_edge_num).astype(np.float32)\n",
        "\n",
        "# 7. Assignment: (district, voter) pairs\n",
        "assignment = np.vstack([dist_labels, np.arange(num_voters)])\n",
        "\n",
        "# 8. Create FrankenData\n",
        "initial_data = gerry_environment_12.FrankenData(\n",
        "    so_edge=social_edge_index,\n",
        "    assignment=assignment,\n",
        "    orig_edge_num=orig_edge_num,\n",
        "    opinion=opinions,\n",
        "    pos=positions,\n",
        "    reps=reps,\n",
        "    dist_label=dist_labels,\n",
        "    edge_attr=edge_attr\n",
        ")\n",
        "\n",
        "print(\"FrankenData initialized:\")\n",
        "print(\"Opinions shape:\", initial_data.opinion.shape)        # (num_voters, opinion_dim)\n",
        "print(\"Positions shape:\", initial_data.pos.shape)           # (num_voters, 2)\n",
        "print(\"Dist labels:\", initial_data.dist_label)              # (num_voters,)\n",
        "print(\"Reps:\", initial_data.reps)                           # (num_districts,)\n",
        "print(\"Social edges shape:\", initial_data.so_edge.shape)    # (2, orig_edge_num)\n",
        "print(\"Edge attributes shape:\", initial_data.edge_attr.shape)  # (orig_edge_num,)\n",
        "print(\"Assignment shape:\", initial_data.dist_edge.shape)    # (2, num_voters)\n"
      ],
      "metadata": {
        "colab": {
          "base_uri": "https://localhost:8080/"
        },
        "id": "8YCnTNlb6zF8",
        "outputId": "591d24ea-07bf-49a0-dbf0-4a0728c688df"
      },
      "execution_count": 4,
      "outputs": [
        {
          "output_type": "stream",
          "name": "stdout",
          "text": [
            "FrankenData initialized:\n",
            "Opinions shape: torch.Size([6, 2])\n",
            "Positions shape: torch.Size([6, 2])\n",
            "Dist labels: tensor([0., 1., 0., 1., 0., 1.])\n",
            "Reps: tensor([0, 1])\n",
            "Social edges shape: torch.Size([2, 8])\n",
            "Edge attributes shape: torch.Size([8])\n",
            "Assignment shape: torch.Size([2, 6])\n"
          ]
        }
      ]
    },
    {
      "cell_type": "code",
      "source": [
        "import numpy as np\n",
        "import matplotlib.pyplot as plt\n",
        "\n",
        "# 1. Create a small environment\n",
        "env = gerry_environment_12.FrankenmanderingEnv(\n",
        "    num_voters=num_voters,\n",
        "    num_districts=num_districts,\n",
        "    opinion_dim=opinion_dim,\n",
        "    FrankenData=initial_data\n",
        ")\n",
        "\n",
        "\n",
        "# 2. Run baseline\n",
        "best_assignment, best_reward = simulated_annealing_baseline(\n",
        "    env,\n",
        "    num_iterations=200,\n",
        "    initial_beta=0.05,\n",
        "    cooling_rate=1.02\n",
        ")\n",
        "print(\"Best reward found:\", best_reward)\n",
        "\n",
        "# 3. Inspect or visualize\n",
        "y = best_assignment.argmax(axis=1)\n",
        "print(\"District counts:\", np.bincount(y + 1))  # +1 to avoid -1\n",
        "\n",
        "# Optional: run multiple times to see cooling behaviour\n",
        "rewards = []\n",
        "beta = 0.05\n",
        "curr_assign, curr_reward = best_assignment, best_reward\n",
        "for i in range(200):\n",
        "    rewards.append(curr_reward)\n",
        "    beta *= 1.02\n"
      ],
      "metadata": {
        "id": "vdqo0LSLlnDY",
        "colab": {
          "base_uri": "https://localhost:8080/"
        },
        "outputId": "711994a5-80c8-4dbe-91dc-f03e29e66cff"
      },
      "execution_count": 6,
      "outputs": [
        {
          "output_type": "stream",
          "name": "stdout",
          "text": [
            "Best reward found: 2.8473741531372063\n",
            "District counts: [0 0 6]\n"
          ]
        }
      ]
    }
  ]
}