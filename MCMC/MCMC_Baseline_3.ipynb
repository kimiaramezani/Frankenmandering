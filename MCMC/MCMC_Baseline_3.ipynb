{
  "nbformat": 4,
  "nbformat_minor": 0,
  "metadata": {
    "colab": {
      "provenance": []
    },
    "kernelspec": {
      "name": "python3",
      "display_name": "Python 3"
    },
    "language_info": {
      "name": "python"
    }
  },
  "cells": [
    {
      "cell_type": "code",
      "source": [
        "!pip install torch_geometric"
      ],
      "metadata": {
        "colab": {
          "base_uri": "https://localhost:8080/"
        },
        "id": "j7PJyuKxNG26",
        "outputId": "c17fc541-e274-4430-ad86-be86a0152bb7"
      },
      "execution_count": null,
      "outputs": [
        {
          "output_type": "stream",
          "name": "stdout",
          "text": [
            "Requirement already satisfied: torch_geometric in /usr/local/lib/python3.12/dist-packages (2.6.1)\n",
            "Requirement already satisfied: aiohttp in /usr/local/lib/python3.12/dist-packages (from torch_geometric) (3.12.15)\n",
            "Requirement already satisfied: fsspec in /usr/local/lib/python3.12/dist-packages (from torch_geometric) (2025.3.0)\n",
            "Requirement already satisfied: jinja2 in /usr/local/lib/python3.12/dist-packages (from torch_geometric) (3.1.6)\n",
            "Requirement already satisfied: numpy in /usr/local/lib/python3.12/dist-packages (from torch_geometric) (2.0.2)\n",
            "Requirement already satisfied: psutil>=5.8.0 in /usr/local/lib/python3.12/dist-packages (from torch_geometric) (5.9.5)\n",
            "Requirement already satisfied: pyparsing in /usr/local/lib/python3.12/dist-packages (from torch_geometric) (3.2.4)\n",
            "Requirement already satisfied: requests in /usr/local/lib/python3.12/dist-packages (from torch_geometric) (2.32.4)\n",
            "Requirement already satisfied: tqdm in /usr/local/lib/python3.12/dist-packages (from torch_geometric) (4.67.1)\n",
            "Requirement already satisfied: aiohappyeyeballs>=2.5.0 in /usr/local/lib/python3.12/dist-packages (from aiohttp->torch_geometric) (2.6.1)\n",
            "Requirement already satisfied: aiosignal>=1.4.0 in /usr/local/lib/python3.12/dist-packages (from aiohttp->torch_geometric) (1.4.0)\n",
            "Requirement already satisfied: attrs>=17.3.0 in /usr/local/lib/python3.12/dist-packages (from aiohttp->torch_geometric) (25.3.0)\n",
            "Requirement already satisfied: frozenlist>=1.1.1 in /usr/local/lib/python3.12/dist-packages (from aiohttp->torch_geometric) (1.7.0)\n",
            "Requirement already satisfied: multidict<7.0,>=4.5 in /usr/local/lib/python3.12/dist-packages (from aiohttp->torch_geometric) (6.6.4)\n",
            "Requirement already satisfied: propcache>=0.2.0 in /usr/local/lib/python3.12/dist-packages (from aiohttp->torch_geometric) (0.3.2)\n",
            "Requirement already satisfied: yarl<2.0,>=1.17.0 in /usr/local/lib/python3.12/dist-packages (from aiohttp->torch_geometric) (1.20.1)\n",
            "Requirement already satisfied: MarkupSafe>=2.0 in /usr/local/lib/python3.12/dist-packages (from jinja2->torch_geometric) (3.0.2)\n",
            "Requirement already satisfied: charset_normalizer<4,>=2 in /usr/local/lib/python3.12/dist-packages (from requests->torch_geometric) (3.4.3)\n",
            "Requirement already satisfied: idna<4,>=2.5 in /usr/local/lib/python3.12/dist-packages (from requests->torch_geometric) (3.10)\n",
            "Requirement already satisfied: urllib3<3,>=1.21.1 in /usr/local/lib/python3.12/dist-packages (from requests->torch_geometric) (2.5.0)\n",
            "Requirement already satisfied: certifi>=2017.4.17 in /usr/local/lib/python3.12/dist-packages (from requests->torch_geometric) (2025.8.3)\n",
            "Requirement already satisfied: typing-extensions>=4.2 in /usr/local/lib/python3.12/dist-packages (from aiosignal>=1.4.0->aiohttp->torch_geometric) (4.15.0)\n"
          ]
        }
      ]
    },
    {
      "cell_type": "markdown",
      "source": [
        "Initial baseline update & reward\n",
        "\n",
        "*   Read current labels from env_work.FrankenData.dist_label.\n",
        "*   Convert labels to an action matrix with labels_to_action.\n",
        "\n",
        "Call env_work.step(action_curr). This runs env.step\n",
        "\n",
        "\n",
        "The returned reward_curr becomes the baseline reward for Metropolis comparisons. This also ensures env_work reflects the post-step opinions (so proposals are compared against a consistent oldX)."
      ],
      "metadata": {
        "id": "9VNvj5HECuh2"
      }
    },
    {
      "cell_type": "code",
      "source": [
        "import numpy as np\n",
        "import torch\n",
        "from torch_geometric.data import Data\n",
        "import gymnasium as gym\n",
        "from gymnasium import spaces\n",
        "import gerry_environment_13\n",
        "from copy import deepcopy\n",
        "from typing import Optional, Tuple, Dict, Any\n",
        "import math"
      ],
      "metadata": {
        "id": "ErlKBfKcRnP7"
      },
      "execution_count": null,
      "outputs": []
    },
    {
      "cell_type": "code",
      "source": [
        "def labels_to_action(labels, num_districts, dtype=np.float32):\n",
        "    \"\"\"\n",
        "    Convert an integer label vector (shape [N]) to an action matrix\n",
        "    expected by env.step: shape (N, num_districts), each row is\n",
        "    a 1-hot encoding of the desired district for that voter.\n",
        "    \"\"\"\n",
        "    N = len(labels)\n",
        "    A = np.zeros((N, num_districts), dtype=dtype)\n",
        "    for i, lab in enumerate(labels):\n",
        "        if lab >= 0 and lab < num_districts:\n",
        "            A[i, int(lab)] = 1.0\n",
        "        else:\n",
        "            # keep row zeros -> will become -1 label in env.step (avoid if possible)\n",
        "            pass\n",
        "    return A"
      ],
      "metadata": {
        "id": "igZrqgRv5kxV"
      },
      "execution_count": null,
      "outputs": []
    },
    {
      "cell_type": "code",
      "source": [
        "\n",
        "    # Propose a new district assignment by flipping a connected cluster\n",
        "    # between two neighboring districts.\n",
        "    # labels : current district labels (numpy int array)\n",
        "    # geo_edge : (2,E) numpy array of undirected geographic edges\n",
        "    # rng : numpy.random.Generator\n",
        "    # Returns: new label array (copy of labels with a cluster flipped)\n",
        "\n",
        "def propose_flip(labels, geo_edge, rng):\n",
        "\n",
        "    N = len(labels)\n",
        "    # Step 1: pick a random edge connecting *different* districts\n",
        "    # only consider edges where endpoints are in different districts\n",
        "    diff_edges = [(u,v) for u,v in geo_edge.T if labels[u] != labels[v]]\n",
        "    if not diff_edges:\n",
        "        return labels.copy()   # nothing to flip if all borders gone\n",
        "    u,v = diff_edges[rng.integers(0, len(diff_edges))]\n",
        "    dA, dB = labels[u], labels[v]\n",
        "\n",
        "    # Step 2: build induced subgraph of nodes in {dA,dB}\n",
        "    # adjacency list\n",
        "    adj = [[] for _ in range(N)]\n",
        "    for x,y in geo_edge.T:\n",
        "        if labels[x] in (dA,dB) and labels[y] in (dA,dB):\n",
        "            adj[x].append(y)\n",
        "            adj[y].append(x)\n",
        "\n",
        "    # Step 3: BFS/DFS to find connected component containing u\n",
        "    cluster = set()\n",
        "    stack = [u]\n",
        "    while stack:\n",
        "        node = stack.pop()\n",
        "        if node in cluster:\n",
        "            continue\n",
        "        cluster.add(node)\n",
        "        for nei in adj[node]:\n",
        "            if nei not in cluster:\n",
        "                stack.append(nei)\n",
        "\n",
        "    # Step 4: flip the entire cluster to the opposite district\n",
        "    new_labels = labels.copy()\n",
        "    target = dB if rng.random() < 0.5 else dA\n",
        "    for node in cluster:\n",
        "        new_labels[node] = target\n",
        "    return new_labels\n"
      ],
      "metadata": {
        "id": "S42_N16k5nFp"
      },
      "execution_count": null,
      "outputs": []
    },
    {
      "cell_type": "markdown",
      "source": [
        "# **Main SA loop (hot → anneal → cold)**\n",
        "For every SA iteration:\n",
        "\n",
        "**1- Proposal generation (propose_flip):**\n",
        "Chooses a border edge, builds a two-district cluster, flips it.\n",
        "This is the proposal step.\n",
        "\n",
        "**2- Pre-checks:**\n",
        "\n",
        "Non-empty district check: all(np.any(y_prop == d) for d in ...). If a district would become empty, reject immediately.\n",
        "\n",
        "Contiguity check: check_contiguity(geo_edge, y_prop, num_districts). If non-contiguous, reject immediately. This prevents expensive simulation for obviously invalid proposals.\n",
        "\n",
        "**3- Evaluation (simulation):**\n",
        "\n",
        "Convert y_prop into an action matrix with labels_to_action.\n",
        "\n",
        "Make tmp_env = deepcopy(env_work) and call tmp_env.step(action_prop). That runs step and reward logic to produce reward_prop and tmp_env.FrankenData (the hypothetical post-proposal state).\n",
        "\n",
        "This tmp_env.step is where the proposal is actually evaluated (it runs opinion update, elects reps, computes augmented graph and reward).\n",
        "\n",
        "**4- Acceptance (Metropolis-style):**\n",
        "\n",
        "Compute diff = reward_prop - reward_curr.\n",
        "Acceptance probability p_accept = min(1, exp(diff / T)), where T is the current temperature (annealed linearly from T_init → T_final).\n",
        "\n",
        "With probability p_accept accept the proposal: commit by setting env_work = tmp_env and reward_curr = reward_prop.\n",
        "\n",
        "If rejected, env_work remains unchanged."
      ],
      "metadata": {
        "id": "19Yy7711DZI6"
      }
    },
    {
      "cell_type": "code",
      "source": [
        "def simulated_annealing_with_env(\n",
        "    env,\n",
        "    hot_steps=500,\n",
        "    anneal_steps=1800,\n",
        "    cold_steps=100,\n",
        "    T_init=1.0,\n",
        "    T_final=0.01,\n",
        "    seed=None,\n",
        "):\n",
        "\n",
        "    rng = np.random.default_rng(seed)\n",
        "    env_work = deepcopy(env)   # work on a copy so original env remains unchanged\n",
        "\n",
        "    # --- initialize: run one \"no-op\" step to get current opinions updated and a baseline reward ---\n",
        "    curr_labels = env_work.FrankenData.dist_label.clone().long().numpy().astype(int)\n",
        "\n",
        "    # ensure no -1 labels exist for initialization (if there are, you'll need to handle them upstream)\n",
        "    if np.any(curr_labels < 0):\n",
        "        raise ValueError(\"Current FrankenData.dist_label contains -1 (unassigned). Assign before SA.\")\n",
        "\n",
        "    # Do a single step with the current labels to produce current opinion update & reward baseline\n",
        "    action_curr = labels_to_action(curr_labels, env_work.num_districts)\n",
        "    _, reward_curr, _, _, _ = env_work.step(action_curr)   # env_work mutated here to the \"post-step\" state\n",
        "\n",
        "    ensemble_labels = [env_work.FrankenData.dist_label.clone().long().numpy().astype(int).copy()]\n",
        "    ensemble_rewards = [float(reward_curr)]\n",
        "\n",
        "    total_steps = hot_steps + anneal_steps + cold_steps\n",
        "    step_idx = 0\n",
        "\n",
        "\n",
        "\n",
        "    # Geo-edge in numpy form for contiguity checks\n",
        "    geo_edge = env_work.FrankenData.geographical_edge.clone().numpy()\n",
        "\n",
        "    # MAIN loop: hot -> anneal -> cold\n",
        "    for phase, n_steps in ((\"hot\", hot_steps), (\"anneal\", anneal_steps), (\"cold\", cold_steps)):\n",
        "        for _ in range(n_steps):\n",
        "            # T = temperature(step_idx)\n",
        "            T = max(T_final, T_init + (T_final - T_init) * (step_idx / max(1, total_steps - 1)))\n",
        "            step_idx += 1\n",
        "\n",
        "            # propose\n",
        "            curr_labels = env_work.FrankenData.dist_label.clone().long().numpy().astype(int)\n",
        "            y_prop = propose_flip(env_work, curr_labels)\n",
        "\n",
        "            # quick pre-checks\n",
        "            # - non-empty districts\n",
        "            if not all(np.any(y_prop == d) for d in range(env_work.num_districts)):\n",
        "                # reject immediately (keeps current plan)\n",
        "                ensemble_labels.append(curr_labels.copy())\n",
        "                ensemble_rewards.append(float(reward_curr))\n",
        "                continue\n",
        "\n",
        "            # - contiguity check: use  check_contiguity (fast pre-filter)\n",
        "            if not env_work.check_contiguity(geo_edge, y_prop, env_work.num_districts):\n",
        "                # reject immediately\n",
        "                ensemble_labels.append(curr_labels.copy())\n",
        "                ensemble_rewards.append(float(reward_curr))\n",
        "                continue\n",
        "\n",
        "            # Build action for proposal (one-hot rows)\n",
        "            action_prop = labels_to_action(y_prop, env_work.num_districts)\n",
        "\n",
        "            # Evaluate proposal by simulating one step on a deepcopy of current env\n",
        "            tmp_env = deepcopy(env_work)\n",
        "            _, reward_prop, _, _, _ = tmp_env.step(action_prop)   # uses  env.step / env.reward logic\n",
        "\n",
        "            # Metropolis acceptance on rewards with temperature T:\n",
        "            # p = min(1, exp((reward_prop - reward_curr)/T))\n",
        "            # note: rewards can be negative; using difference / T is standard for SA (treat reward as -energy)\n",
        "            diff = float(reward_prop) - float(reward_curr)\n",
        "            # guard against overflow\n",
        "            try:\n",
        "                p_accept = math.exp(diff / max(1e-8, T))\n",
        "                p_accept = min(1.0, p_accept)\n",
        "            except OverflowError:\n",
        "                p_accept = 1.0 if diff > 0 else 0.0\n",
        "\n",
        "            if rng.random() < p_accept:\n",
        "                # accept: commit tmp_env as the new working environment\n",
        "                env_work = tmp_env\n",
        "                reward_curr = float(reward_prop)\n",
        "                ensemble_labels.append(env_work.FrankenData.dist_label.clone().long().numpy().astype(int).copy())\n",
        "                ensemble_rewards.append(reward_curr)\n",
        "            else:\n",
        "                # reject: keep current env\n",
        "                ensemble_labels.append(env_work.FrankenData.dist_label.clone().long().numpy().astype(int).copy())\n",
        "                ensemble_rewards.append(float(reward_curr))\n",
        "                env_work.reset()\n",
        "\n",
        "    return env_work, ensemble_labels, ensemble_rewards\n"
      ],
      "metadata": {
        "id": "XGvRiHXx5dG_"
      },
      "execution_count": null,
      "outputs": []
    }
  ]
}