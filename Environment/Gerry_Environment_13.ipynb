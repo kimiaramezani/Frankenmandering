{
  "nbformat": 4,
  "nbformat_minor": 0,
  "metadata": {
    "colab": {
      "provenance": []
    },
    "kernelspec": {
      "name": "python3",
      "display_name": "Python 3"
    },
    "language_info": {
      "name": "python"
    }
  },
  "cells": [
    {
      "cell_type": "markdown",
      "source": [
        "##**Gerrymandering-Environment**\n",
        "\n",
        "    INITIAL STATE (provided externally via reset(options=...)):\n",
        "        - 'district_map'\n",
        "        - 'social_graph'\n",
        "        - 'opinions'     \n",
        "\n",
        "    ACTION:\n",
        "        - new district assignment for each voter\n",
        "\n",
        "    OBSERVATION (returned by reset/step):\n",
        "        {\n",
        "          'district_map'   : (num_voters,)\n",
        "          'representatives': (num_districts,)  # voter indices; -1 if empty   district\n",
        "          'social_graph'   : (num_voters, num_voters)  # AUGMENTED: base social + rep->voter edges used for the step\n",
        "          'opinions'       : (num_voters, 2)\n",
        "          'opinion_graph'  : (num_voters, num_voters)  # similarity kernel derived from opinion distances\n",
        "        }\n",
        "\n",
        "    KEY LOGIC:\n",
        "      - Representatives: for each district, pick the member that minimizes the sum of L2 distances to members in that district (discrete 1-median).\n",
        "      - Opinion dynamics: DRF (assimilation/neutral/backfire) with weighted neighbor influence.\n",
        "      - Reward: reduction in total distance to reference opinion c*\n"
      ],
      "metadata": {
        "id": "YVPu0WeaABON"
      }
    },
    {
      "cell_type": "code",
      "source": [
        "!pip install torch_geometric"
      ],
      "metadata": {
        "colab": {
          "base_uri": "https://localhost:8080/"
        },
        "id": "j7PJyuKxNG26",
        "outputId": "f64157c4-e4c9-4dc6-fa91-85aff4daba80"
      },
      "execution_count": 1,
      "outputs": [
        {
          "output_type": "stream",
          "name": "stdout",
          "text": [
            "Requirement already satisfied: torch_geometric in /usr/local/lib/python3.12/dist-packages (2.6.1)\n",
            "Requirement already satisfied: aiohttp in /usr/local/lib/python3.12/dist-packages (from torch_geometric) (3.12.15)\n",
            "Requirement already satisfied: fsspec in /usr/local/lib/python3.12/dist-packages (from torch_geometric) (2025.3.0)\n",
            "Requirement already satisfied: jinja2 in /usr/local/lib/python3.12/dist-packages (from torch_geometric) (3.1.6)\n",
            "Requirement already satisfied: numpy in /usr/local/lib/python3.12/dist-packages (from torch_geometric) (2.0.2)\n",
            "Requirement already satisfied: psutil>=5.8.0 in /usr/local/lib/python3.12/dist-packages (from torch_geometric) (5.9.5)\n",
            "Requirement already satisfied: pyparsing in /usr/local/lib/python3.12/dist-packages (from torch_geometric) (3.2.4)\n",
            "Requirement already satisfied: requests in /usr/local/lib/python3.12/dist-packages (from torch_geometric) (2.32.4)\n",
            "Requirement already satisfied: tqdm in /usr/local/lib/python3.12/dist-packages (from torch_geometric) (4.67.1)\n",
            "Requirement already satisfied: aiohappyeyeballs>=2.5.0 in /usr/local/lib/python3.12/dist-packages (from aiohttp->torch_geometric) (2.6.1)\n",
            "Requirement already satisfied: aiosignal>=1.4.0 in /usr/local/lib/python3.12/dist-packages (from aiohttp->torch_geometric) (1.4.0)\n",
            "Requirement already satisfied: attrs>=17.3.0 in /usr/local/lib/python3.12/dist-packages (from aiohttp->torch_geometric) (25.3.0)\n",
            "Requirement already satisfied: frozenlist>=1.1.1 in /usr/local/lib/python3.12/dist-packages (from aiohttp->torch_geometric) (1.7.0)\n",
            "Requirement already satisfied: multidict<7.0,>=4.5 in /usr/local/lib/python3.12/dist-packages (from aiohttp->torch_geometric) (6.6.4)\n",
            "Requirement already satisfied: propcache>=0.2.0 in /usr/local/lib/python3.12/dist-packages (from aiohttp->torch_geometric) (0.3.2)\n",
            "Requirement already satisfied: yarl<2.0,>=1.17.0 in /usr/local/lib/python3.12/dist-packages (from aiohttp->torch_geometric) (1.20.1)\n",
            "Requirement already satisfied: MarkupSafe>=2.0 in /usr/local/lib/python3.12/dist-packages (from jinja2->torch_geometric) (3.0.2)\n",
            "Requirement already satisfied: charset_normalizer<4,>=2 in /usr/local/lib/python3.12/dist-packages (from requests->torch_geometric) (3.4.3)\n",
            "Requirement already satisfied: idna<4,>=2.5 in /usr/local/lib/python3.12/dist-packages (from requests->torch_geometric) (3.10)\n",
            "Requirement already satisfied: urllib3<3,>=1.21.1 in /usr/local/lib/python3.12/dist-packages (from requests->torch_geometric) (2.5.0)\n",
            "Requirement already satisfied: certifi>=2017.4.17 in /usr/local/lib/python3.12/dist-packages (from requests->torch_geometric) (2025.8.3)\n",
            "Requirement already satisfied: typing-extensions>=4.2 in /usr/local/lib/python3.12/dist-packages (from aiosignal>=1.4.0->aiohttp->torch_geometric) (4.15.0)\n"
          ]
        }
      ]
    },
    {
      "cell_type": "code",
      "source": [
        "import numpy as np\n",
        "import torch\n",
        "from torch_geometric.data import Data\n",
        "import gymnasium as gym\n",
        "from gymnasium import spaces\n",
        "import copy"
      ],
      "metadata": {
        "id": "ErlKBfKcRnP7"
      },
      "execution_count": 2,
      "outputs": []
    },
    {
      "cell_type": "code",
      "source": [],
      "metadata": {
        "id": "2wDGRtoE8c1z"
      },
      "execution_count": 2,
      "outputs": []
    },
    {
      "cell_type": "markdown",
      "source": [
        "#This is the Frankenmandering Data class which includes:\n",
        "*   social edge list: type: matrix and size : (v,v)\n",
        "*   assignment edge list: type: matrix and size:(v,d)\n",
        "*   number of orignin edge\n",
        "*   geometric position\n",
        "*   district label\n",
        "*   edge attribute\n",
        "*   representative\n",
        "*   opinion\n",
        "\n"
      ],
      "metadata": {
        "id": "2jBy0nDzXUIs"
      }
    },
    {
      "cell_type": "code",
      "source": [
        "class FrankenData(Data):\n",
        "  def __init__(self,social_edge, geographical_edge, orig_edge_num, opinion, pos, reps, dist_label, edge_attr, **kwargs):\n",
        "    super().__init__(**kwargs)\n",
        "\n",
        "    self.orig_edge_num = orig_edge_num\n",
        "    self.opinion = torch.tensor(opinion, dtype=torch.float32)\n",
        "    self.pos = torch.tensor(pos, dtype=torch.float32)\n",
        "    self.dist_label = torch.tensor(dist_label, dtype=torch.float32)\n",
        "\n",
        "    #social graph\n",
        "    self.social_edge = torch.tensor(social_edge, dtype=torch.long)\n",
        "    self.edge_attr = torch.tensor(edge_attr, dtype=torch.float32)\n",
        "\n",
        "    # geographical graph\n",
        "    self.geographical_edge = torch.tensor(geographical_edge, dtype=torch.long)\n",
        "\n",
        "    self.reps = torch.tensor(reps, dtype=torch.long)\n",
        "\n",
        "  def save(self,file_path):\n",
        "      torch.save(self,file_path)\n",
        "      print(f\"FrankenData object saved to {file_path}\")\n",
        "\n",
        "  def load(self,file_path):\n",
        "      data = torch.load(file_path)\n",
        "      print(f\"FrankenData object loaded from {file_path}\")\n",
        "      return data"
      ],
      "metadata": {
        "id": "GXLeossttp_K"
      },
      "execution_count": 3,
      "outputs": []
    },
    {
      "cell_type": "code",
      "source": [
        "class FrankenmanderingEnv(gym.Env):\n",
        "\n",
        "    metadata = {\"render_modes\": [\"human\"]}\n",
        "\n",
        "    def __init__(\n",
        "        self,\n",
        "        num_voters: int,\n",
        "        num_districts: int,\n",
        "        opinion_dim: int = 2,\n",
        "        horizon: int = 10,\n",
        "        seed: int | None = None,\n",
        "        FrankenData = None,\n",
        "        # target\n",
        "        reference_opinion: np.ndarray | None = None,\n",
        "\n",
        "    ):\n",
        "        super().__init__()\n",
        "        self.num_voters = int(num_voters)\n",
        "        self.num_districts = int(num_districts)\n",
        "        self.opinion_dim = int(opinion_dim)\n",
        "        self.horizon = int(horizon)\n",
        "        self.rng = np.random.default_rng(seed)\n",
        "\n",
        "        # state\n",
        "        self.t = 0\n",
        "        self.initial_data = copy.deepcopy(FrankenData)\n",
        "        self.FrankenData = FrankenData\n",
        "        self.opinion_update_step = 0\n",
        "\n",
        "        # target opinion c*\n",
        "        if reference_opinion is None:\n",
        "            self.c_star = np.zeros((self.num_voters,self.opinion_dim), dtype=np.float32)\n",
        "        else:\n",
        "            self.c_star = np.asarray(reference_opinion, dtype=np.float32).reshape(self.num_voters,self.opinion_dim)\n",
        "\n",
        "        # action spaces\n",
        "        self.action_space = spaces.Box(low=0.0, high=1.0, shape=(self.num_voters, self.num_districts), dtype=np.float32)\n",
        "\n",
        "        self.observation_space = spaces.Dict({\n",
        "                  \"opinions\": spaces.Box(low=-np.inf, high=np.inf,\n",
        "                                        shape=(self.num_voters, self.opinion_dim), dtype=np.float32),\n",
        "\n",
        "                  \"positions\": spaces.Box(low=-np.inf, high=np.inf,\n",
        "                                          shape=(self.num_voters, 2), dtype=np.float32),\n",
        "\n",
        "                  \"dist_label\": spaces.Box(low=0, high=self.num_districts-1,\n",
        "                                          shape=(self.num_voters,), dtype=np.int32),\n",
        "\n",
        "                  \"reps\": spaces.Box(low=-1, high=self.num_voters-1,\n",
        "                                    shape=(self.num_districts,), dtype=np.int32),\n",
        "\n",
        "                  \"social_edge_index\": spaces.Box(low=0, high=self.num_voters-1,\n",
        "                                shape=(2, self.initial_data.orig_edge_num), dtype=np.int32),\n",
        "\n",
        "                  \"social_edge_attr\": spaces.Box(low=0, high=np.inf,\n",
        "                                                shape=(self.initial_data.orig_edge_num,), dtype=np.float32),\n",
        "\n",
        "                  \"assignment\": spaces.Box(low=0, high=self.num_voters-1,\n",
        "                                          shape=(2, self.num_voters), dtype=np.int32),\n",
        "              })\n",
        "\n",
        "\n",
        "    # options includes opinions, geometric position,  edge_index(social graph,assignment),assignment\n",
        "    def reset(self, seed: int | None = None, options: dict | None = None):\n",
        "        super().reset(seed=seed)\n",
        "        self.t = 0\n",
        "\n",
        "        self.FrankenData = copy.deepcopy(self.initial_data)\n",
        "\n",
        "        return self.FrankenData, {}\n",
        "\n",
        "    def step(self, action: np.ndarray, **kwargs):\n",
        "        if self.FrankenData is None:\n",
        "            raise RuntimeError(\"Environment must be reset before calling step.\")\n",
        "\n",
        "        # Normalize action and compute new assignment\n",
        "        assignment = row_normalize(np.asarray(action, dtype=np.float32))\n",
        "\n",
        "        # assignment = ensure_non_empty(assignment)\n",
        "        y = assignment.argmax(axis=1).astype(np.int32)\n",
        "        y[(assignment.max(axis=1) == 0)] = -1\n",
        "\n",
        "        # check the validity of district\n",
        "        # contiguous = check_contiguity(self.FrankenData.geographical_edge, y, self.num_districts)\n",
        "        non_empty = all(np.any(y == d) for d in range(self.num_districts))\n",
        "\n",
        "\n",
        "        if  (not non_empty):\n",
        "          terminated = False\n",
        "          reward = -10\n",
        "          return self.FrankenData, reward, terminated,False,{}\n",
        "\n",
        "        # Elect new representatives\n",
        "        reps = elect_representatives(y, self.FrankenData.opinion, self.num_districts)\n",
        "        #partial reset augmented graph\n",
        "\n",
        "        social_graph = self.FrankenData.social_edge[:, :-self.FrankenData.orig_edge_num]\n",
        "\n",
        "        social_edge_attr = self.FrankenData.edge_attr[:-self.FrankenData.orig_edge_num]\n",
        "\n",
        "        # update social graph based on reps and new assignment\n",
        "        aug_edge_index, aug_edge_attr = augment_with_reps(\n",
        "            social_graph,\n",
        "            social_edge_attr,\n",
        "            reps,\n",
        "            y\n",
        "        )\n",
        "\n",
        "        # Update oppinion\n",
        "        x_new = opinion_update(self.opinion_update_step, aug_edge_index, aug_edge_attr,self.FrankenData.opinion, **kwargs)\n",
        "\n",
        "        reward = self.reward(self.FrankenData.opinion, x_new, y, self.FrankenData.social_edge)\n",
        "\n",
        "        self.t += 1\n",
        "        self.opinion_update_step +=1\n",
        "        terminated = self.t >= self.horizon\n",
        "\n",
        "        self.FrankenData = FrankenData(\n",
        "              social_edge = aug_edge_index,\n",
        "              orig_edge_num = aug_edge_index.shape[1],\n",
        "              geographical_edge= self.initial_data.geographical_edge,\n",
        "              opinion= x_new,\n",
        "              pos =self.FrankenData.pos,\n",
        "              reps=[r if r is not None else -1 for r in reps],\n",
        "              dist_label=y,\n",
        "              edge_attr = aug_edge_attr\n",
        "            )\n",
        "        return self.FrankenData, float(reward), terminated, False, {}\n",
        "\n",
        "\n",
        "    def reward(self, oldX,newX, y, assignment, a= 0.1, b =0.5):\n",
        "        # check the population equity and compactness constraints\n",
        "        pop_dev = population_equality(np.ones_like(y),y, self.num_districts)\n",
        "        comp_score = compactness_score(assignment, y)\n",
        "\n",
        "        penalty =  -a * pop_dev - b * comp_score\n",
        "\n",
        "        old_d=np.linalg.norm(oldX-self.c_star,axis=1).sum()\n",
        "        new_d=np.linalg.norm(newX-self.c_star,axis=1).sum()\n",
        "\n",
        "        reward = penalty + old_d-new_d\n",
        "        return reward\n",
        "\n",
        "    # def render(self, mode=\"human\"):\n",
        "    #     mean = self._x.mean(axis=0)\n",
        "    #     print(f\"[t={self.t}] mean opinion ≈ {tuple(np.round(mean,3))}\")\n"
      ],
      "metadata": {
        "id": "SVTh7C79jybC"
      },
      "execution_count": 4,
      "outputs": []
    },
    {
      "cell_type": "markdown",
      "source": [
        "**Elect representatives**\n",
        "###This function elects representative in each district using a spatial / metric voting rule, specifically the median voter rule\n",
        "\n",
        "```\n",
        "Args:\n",
        "        y: (N,) array of district labels for each voter.\n",
        "        X: (N, opinion_dim) array of voter opinions.\n",
        "        num_districts: number of districts (K).\n",
        "\n",
        "    Returns:\n",
        "        reps: list of representative indices, one per district (None if district empty)\n",
        "```\n",
        "\n"
      ],
      "metadata": {
        "id": "-oLPzJZ1T1gT"
      }
    },
    {
      "cell_type": "code",
      "source": [],
      "metadata": {
        "id": "pXmQqyUDXCka"
      },
      "execution_count": 4,
      "outputs": []
    },
    {
      "cell_type": "code",
      "source": [
        "import numpy as np\n",
        "\n",
        "def elect_representatives(y: np.ndarray, X: np.ndarray, num_districts: int):\n",
        "\n",
        "    reps = [None] * num_districts\n",
        "    N, m = X.shape\n",
        "\n",
        "    # Precompute pairwise distances\n",
        "    dif = X[:, None, :] - X[None, :, :]   # (N,N,m)\n",
        "    dists = np.linalg.norm(dif, axis=2)   # (N,N) Euclidean distances\n",
        "\n",
        "    for d in range(num_districts):\n",
        "        members = np.where(y == d)[0]  # voters in district d\n",
        "\n",
        "        if len(members) == 0:\n",
        "            continue  # empty district\n",
        "\n",
        "        # For each member, compute sum of distances to others in district\n",
        "        sums = dists[np.ix_(members, members)].sum(axis=1)\n",
        "\n",
        "        # Pick the member with the minimal total distance/it stores the index of opinion\n",
        "        reps[d] = int(members[np.argmin(sums)])\n",
        "\n",
        "    return reps"
      ],
      "metadata": {
        "id": "UTyp4WZPBvBx"
      },
      "execution_count": 5,
      "outputs": []
    },
    {
      "cell_type": "code",
      "source": [
        "# # test elect_representatives\n",
        "# X = np.array([[0.],\n",
        "#         [0.],\n",
        "#         [0.],\n",
        "#         [1.],\n",
        "#         [2.],\n",
        "#         [3.],\n",
        "#         [4.],\n",
        "#         [5.],\n",
        "#         [5.],\n",
        "#         [5.]], dtype=float)\n",
        "\n",
        "# Y = np.array([0, 0, 0,0,0,0,0,0,0,0])\n",
        "# print(elect_representatives(Y,X,1))"
      ],
      "metadata": {
        "id": "ZNa3gzXVT5w7"
      },
      "execution_count": 6,
      "outputs": []
    },
    {
      "cell_type": "markdown",
      "source": [
        "## **Augment with reps (G union H)**\n",
        "\n",
        "###\n",
        "Augment the social graph with representative edges (district graphs).\n",
        "    \n",
        "    Args:\n",
        "        edge_index: (2, E) numpy array of existing social edges.\n",
        "        edge_attr: (E,) numpy array of edge weights.\n",
        "        reps: list of representative indices, one per district (None if empty).\n",
        "        y: (N,) array of district assignments (each voter’s district label).\n",
        "        rep_edge_weight: weight to assign to each representative edge (default=1.0).\n",
        "    \n",
        "    Returns:\n",
        "        new_edge_index: (2, E+E_rep) with representative edges added.\n",
        "        new_edge_attr:  (E+E_rep,) with weights for representative edges."
      ],
      "metadata": {
        "id": "pcrCb31TWRxR"
      }
    },
    {
      "cell_type": "code",
      "source": [
        "\n",
        "def augment_with_reps(edge_index, edge_attr, reps, y, rep_edge_weight: float = 1.0):\n",
        "\n",
        "    add_src, add_dst, add_w = [], [], []\n",
        "    existing = set(map(tuple, edge_index.T))\n",
        "\n",
        "    for d, r in enumerate(reps):\n",
        "        if r is None:\n",
        "            continue  # empty district\n",
        "        members = np.where(y == d)[0]\n",
        "\n",
        "        for v in members:\n",
        "            if v == r:\n",
        "                continue  # skip self-loop\n",
        "\n",
        "            if (r, v) in existing:\n",
        "              continue  # skip duplicate\n",
        "\n",
        "            add_src.append(r)             # representative -> member\n",
        "            add_dst.append(v)\n",
        "            add_w.append(rep_edge_weight) # fixed influence weight\n",
        "\n",
        "    if not add_src:  # no additional edges\n",
        "        return edge_index, edge_attr\n",
        "\n",
        "    rep_edges = np.vstack([add_src, add_dst])      # shape (2, E_rep)\n",
        "    rep_weights = np.array(add_w, dtype=np.float32)\n",
        "\n",
        "    new_edge_index = np.concatenate([edge_index, rep_edges], axis=1)\n",
        "    new_edge_attr  = np.concatenate([edge_attr, rep_weights], axis=0)\n",
        "\n",
        "    return new_edge_index, new_edge_attr"
      ],
      "metadata": {
        "id": "dgnQEm-t5caS"
      },
      "execution_count": 7,
      "outputs": []
    },
    {
      "cell_type": "markdown",
      "source": [
        "### **Opinion Update Function**\n",
        "### At each step, voters \"adjust\" their position in opinion space based on the Euclidean distance to their neighbours, with the DRF\n",
        "\n",
        "\n",
        "deciding whether they converge, diverge, or ignore.\n",
        "\n",
        "Each neighbour \"pulls\" or \"pushes\" v depending on how similar they are.\n",
        "\n",
        "The closer they are, the more v tends to assimilate.\n",
        "\n",
        "If they’re a bit too far, v resists and moves in the opposite direction (backfire).\n",
        "\n",
        "If they’re too far away, v ignores them.\n",
        "\n",
        "The update is multi-dimensional, so if opinions are about multiple issues, the shift happens along the direction where the neighbour differs most.\n",
        "\n",
        "Because normalization is used, v doesn’t \"overreact\" to having many neighbours.\n",
        "\n",
        "    Apply opinion update based on DRF across graph edges.\n",
        "    X: (N, opinion_dim)\n",
        "    edge_index (augmented social graph): shape (2, E)\n",
        "    edge_attr(w): shape (E,)\n",
        "    mu : μ(∥cut​−cvt​∥)"
      ],
      "metadata": {
        "id": "Wlsdu5YwlKJW"
      }
    },
    {
      "cell_type": "code",
      "source": [
        "def opinion_update(self, edge_index_aug, edge_attr, X: np.ndarray) -> np.ndarray:\n",
        "\n",
        "    N, m = X.shape   # N voters, m-dimensional opinions\n",
        "    newX = np.copy(X)\n",
        "\n",
        "    updates = np.zeros_like(X)\n",
        "    norm_factors = np.zeros((N, 1)) #Z\n",
        "\n",
        "    for e in range(edge_index_aug.shape[1]):\n",
        "        u, v = edge_index_aug[:, e]\n",
        "        w = edge_attr[e]\n",
        "\n",
        "        diff = X[u] - X[v]               # vector difference in opinion space\n",
        "\n",
        "       # Euclidean distance\n",
        "       # if diff is a 1-D array [x, y, z], then np.linalg.norm(diff, 2) calculates sqrt(x^2 + y^2 + z^2)\n",
        "        dist = np.linalg.norm(diff, 2)\n",
        "\n",
        "        if dist > 1e-8:  # avoid division by zero\n",
        "            mu = drf(dist)\n",
        "            direction = (diff / dist).numpy()      # unit vector (direction only)\n",
        "\n",
        "            # influence: u influences v\n",
        "            updates[v] += mu * w * direction\n",
        "            norm_factors[v] += abs(w)\n",
        "\n",
        "    # apply updates with normalization\n",
        "    for v in range(N):\n",
        "        if norm_factors[v] > 0:\n",
        "            newX[v] = X[v] + updates[v] / norm_factors[v]\n",
        "\n",
        "    return newX"
      ],
      "metadata": {
        "id": "7fyDXbI15kby"
      },
      "execution_count": 8,
      "outputs": []
    },
    {
      "cell_type": "markdown",
      "source": [
        "**Discrepancy Response Function**\n",
        "*   This function determines how a voter reacts when interacting with another voter based on the discrepancy (distance) between their opinions.\n",
        "*   Tunable thresholds: epsilon values determine assimilation/backfire ranges. There are 5 levels in this range\n",
        "\n",
        "### thresholds (tune these as hyperparameters)\n",
        "*   eps_indiff = 0.5    below this = indifference\n",
        "*   eps_backfire = 4.0  backfire zone\n",
        "*   eps_irrel = 6.0     above this = irrelevance    \n",
        "*   eps_assim = 2.0     assimilation zone"
      ],
      "metadata": {
        "id": "yAw4RY0hjKEQ"
      }
    },
    {
      "cell_type": "code",
      "source": [
        "def drf(discrepancy, **kwargs):\n",
        "    eps_assim = kwargs.get(\"eps_assim\", 3)\n",
        "    eps_backfire = kwargs.get(\"eps_backfire\", 3)\n",
        "    assim_shift = kwargs.get(\"assim_shift\", np.sign(discrepancy))\n",
        "    back_shift = kwargs.get(\"back_shift\", -np.sign(discrepancy))\n",
        "\n",
        "    delta = abs(discrepancy)\n",
        "\n",
        "    if delta < eps_assim: #assimilation\n",
        "          return assim_shift\n",
        "\n",
        "    elif (delta > eps_backfire) or (delta == eps_backfire): #backfire\n",
        "          return back_shift\n",
        "    else:\n",
        "          return 0.0  #indifference, irrelevance, neutal\n"
      ],
      "metadata": {
        "id": "8KVo-D5UjIDJ"
      },
      "execution_count": 9,
      "outputs": []
    },
    {
      "cell_type": "code",
      "source": [
        "def row_normalize(A: np.ndarray, eps=1e-8) -> np.ndarray:\n",
        "        row_sum = A.sum(axis=1, keepdims=True)\n",
        "        row_sum = np.clip(row_sum, eps, None)\n",
        "        return A / row_sum\n",
        "\n",
        "\n",
        "def adj_to_coo(adj: np.ndarray):\n",
        "        row, col = np.nonzero(adj)\n",
        "        edge_index = np.vstack([row, col])\n",
        "        edge_attr = adj[row, col]\n",
        "        return edge_index, edge_attr"
      ],
      "metadata": {
        "id": "G-4CY7v1Zj3d"
      },
      "execution_count": 10,
      "outputs": []
    },
    {
      "cell_type": "markdown",
      "source": [
        "## **Population equality**\n",
        "###(districts must have nearly equal populations)\n",
        "Compute population deviation score.\n",
        "    \n",
        "    population weight: np.ndarray shape (N,) -> population of each voter/node\n",
        "    labels: np.ndarray shape (N,) -> district assignment\n",
        "    num_districts: int\n",
        "    \n",
        "    Returns: float (sum of deviations from ideal)\n",
        "    \"\"\"\n",
        "    Returns normalized population deviation:\n",
        "      sum(|pop_d - ideal|) / total_pop\n",
        "    This is in [0, 2*(1 - 1/num_districts)] roughly; smaller is better.\n",
        "    \"\"\"\n"
      ],
      "metadata": {
        "id": "YPNTfMge3FPd"
      }
    },
    {
      "cell_type": "code",
      "source": [
        "def population_equality(pop_weights: np.ndarray, y: np.ndarray, num_districts: int) -> float:\n",
        "\n",
        "    pop_weights = np.asarray(pop_weights, dtype=float)\n",
        "    total = pop_weights.sum()\n",
        "    pop_per = np.zeros(num_districts, dtype=float)\n",
        "\n",
        "    for d in range(num_districts):\n",
        "        pop_per[d] = pop_weights[y == d].sum()\n",
        "    ideal = total / float(num_districts)\n",
        "\n",
        "    return float(np.abs(pop_per - ideal).sum() / (total + 1e-12))"
      ],
      "metadata": {
        "id": "WY6qdDw0xxGM"
      },
      "execution_count": 11,
      "outputs": []
    },
    {
      "cell_type": "markdown",
      "source": [
        "## **check contiguity**\n",
        "###A district is contiguous if all its members are connected to each other in the graph.\n",
        "This function Check whether each district forms a connected component.\n",
        "    \n",
        "    edge_index: np.ndarray shape (2, E) -> edges\n",
        "    labels: np.ndarray shape (N,) -> district assignment of each node\n",
        "    num_districts: int\n",
        "    \n",
        "    Returns: bool (True if all districts are contiguous)"
      ],
      "metadata": {
        "id": "NNDKgZgkI4Kz"
      }
    },
    {
      "cell_type": "code",
      "source": [
        "from collections import deque\n",
        "\n",
        "def check_contiguity(geo_edge, labels, num_districts):\n",
        "\n",
        "    N = len(labels)\n",
        "    adjacency = [[] for _ in range(N)]\n",
        "\n",
        "    for u, v in geo_edge.T:\n",
        "        adjacency[u].append(v)\n",
        "        adjacency[v].append(u)\n",
        "\n",
        "    for d in range(num_districts):\n",
        "        members = np.where(labels == d)[0]\n",
        "\n",
        "        if len(members) == 0:\n",
        "            continue  # empty district handled elsewhere\n",
        "\n",
        "        # BFS search, using queue\n",
        "        visited = set()\n",
        "        queue = deque([members[0]])\n",
        "        visited.add(members[0])\n",
        "\n",
        "        while queue:\n",
        "            node = queue.popleft()\n",
        "            for nei in adjacency[node]:\n",
        "                if labels[nei] == d and nei not in visited:\n",
        "                    visited.add(nei)\n",
        "                    queue.append(nei)\n",
        "\n",
        "        if len(visited) != len(members):\n",
        "            return False  # not contiguous\n",
        "    return True"
      ],
      "metadata": {
        "id": "l96LM-PT20SI"
      },
      "execution_count": 12,
      "outputs": []
    },
    {
      "cell_type": "markdown",
      "source": [
        "## **compactness score**\n",
        "###  Compactness means districts should not be “spread out” with too many edges crossing between districts.This function computes compactness as ratio of cut edges to total edges.\n",
        "    \n",
        "    edge_index (social connection): np.ndarray shape (2, E)\n",
        "    labels (district labels): np.ndarray shape (N,)\n",
        "    \n",
        "    Returns: float (compactness score)"
      ],
      "metadata": {
        "id": "RY18EeC7IcSf"
      }
    },
    {
      "cell_type": "code",
      "source": [
        "def compactness_score(geographical_edge, y: np.ndarray) -> float:\n",
        "    \"\"\"\n",
        "    Compactness = fraction of geographical edges that are cut (endpoints in different districts).\n",
        "    Lower is more compact. Accepts same geographical_edge formats as build_neighbors().\n",
        "    \"\"\"\n",
        "    ge = np.asarray(geographical_edge)\n",
        "    # normalize edges to a list of pairs\n",
        "    if ge.ndim == 2 and ge.shape[0] == ge.shape[1]:\n",
        "        # adjacency matrix -> build unique edges (i<j)\n",
        "        N = ge.shape[0]\n",
        "        cut = 0\n",
        "        total = 0\n",
        "        for i in range(N):\n",
        "            for j in range(i+1, N):\n",
        "                if ge[i, j]:\n",
        "                    total += 1\n",
        "                    if y[i] != y[j]:\n",
        "                        cut += 1\n",
        "        return 0.0 if total == 0 else float(cut / total)\n",
        "    else:\n",
        "        if ge.shape[0] == 2:\n",
        "            edges = ge.T.astype(int)\n",
        "        else:\n",
        "            edges = ge.astype(int)\n",
        "        total = edges.shape[0]\n",
        "        if total == 0:\n",
        "            return 0.0\n",
        "        cuts = np.sum([1 for (u, v) in edges if int(y[int(u)]) != int(y[int(v)])])\n",
        "        return float(cuts / total)"
      ],
      "metadata": {
        "id": "HSN-WA453UFN"
      },
      "execution_count": 13,
      "outputs": []
    },
    {
      "cell_type": "markdown",
      "source": [
        "**Inchworm test**"
      ],
      "metadata": {
        "id": "9ZV-MZB-TmaR"
      }
    },
    {
      "cell_type": "code",
      "source": [
        "import torch\n",
        "import numpy as np\n",
        "\n",
        "# ---- Setup initial data for inchworm ----\n",
        "num_voters = 10\n",
        "num_districts = 1\n",
        "init_opinions = np.array([0,0,0,1,2,3,4,5,5,5], dtype=np.float32).reshape(num_voters, 1)\n",
        "\n",
        "# trivial positions (not used in inchworm)\n",
        "pos = np.zeros((num_voters, 2), dtype=np.float32)\n",
        "\n",
        "# no base edges (inchworm works only via districting)\n",
        "so_edge = np.empty((2,0),dtype=np.int64)\n",
        "edge_attr  = np.empty((0,),dtype=np.float32)\n",
        "\n",
        "\n",
        "# trivial initial assignment (everyone in district 0 for now)\n",
        "geographical_edge = np.zeros((num_voters, num_voters), dtype=np.float32)\n",
        "geographical_edge = [\n",
        "                      [0,0,0,1,0,0,0,0,0,0],\n",
        "                      [0,0,0,1,0,0,0,0,0,0],\n",
        "                      [0,0,0,1,0,0,0,0,0,0],\n",
        "                      [1,1,1,0,1,0,0,1,1,1],\n",
        "                      [0,0,0,1,0,1,0,0,1,1],\n",
        "                      [0,0,0,0,1,0,1,0,0,0],\n",
        "                      [0,0,0,0,0,1,0,1,0,0],\n",
        "                      [0,0,0,1,0,0,1,0,1,0],\n",
        "                      [0,0,0,1,1,0,0,1,0,1],\n",
        "                      [0,0,0,1,1,0,0,0,1,0]\n",
        "]\n",
        "\n",
        "dist_label = np.zeros(num_voters, dtype=np.int32)\n",
        "\n",
        "# no reps yet\n",
        "reps = [-1]*num_districts\n",
        "\n",
        "geographical_edge = []\n",
        "\n",
        "# pack into FrankenData\n",
        "init_data = FrankenData(\n",
        "    social_edge=so_edge,\n",
        "    geographical_edge= geographical_edge,\n",
        "    orig_edge_num=2,\n",
        "    opinion=init_opinions,\n",
        "    pos=pos,\n",
        "    reps=reps,\n",
        "    dist_label=dist_label,\n",
        "    edge_attr=edge_attr\n",
        ")"
      ],
      "metadata": {
        "id": "pEfrZuw3qaNK"
      },
      "execution_count": 14,
      "outputs": []
    },
    {
      "cell_type": "code",
      "source": [],
      "metadata": {
        "id": "eFa64zm9WYTN"
      },
      "execution_count": 14,
      "outputs": []
    },
    {
      "cell_type": "code",
      "source": [
        "env = FrankenmanderingEnv(num_voters=num_voters,\n",
        "                          num_districts=num_districts,\n",
        "                          FrankenData=init_data\n",
        "                                               )\n",
        "\n",
        "# reset will now just deepcopy init_data\n",
        "obs, _ = env.reset()\n",
        "print(\"t=0:\", obs.opinion.squeeze().tolist())"
      ],
      "metadata": {
        "colab": {
          "base_uri": "https://localhost:8080/"
        },
        "id": "sRqgcwOXTlXf",
        "outputId": "a5c56f19-264a-4b3a-f030-75e42d33df55"
      },
      "execution_count": 15,
      "outputs": [
        {
          "output_type": "stream",
          "name": "stdout",
          "text": [
            "t=0: [0.0, 0.0, 0.0, 1.0, 2.0, 3.0, 4.0, 5.0, 5.0, 5.0]\n"
          ]
        }
      ]
    },
    {
      "cell_type": "code",
      "source": [
        "def run_inchworm(env, districts):\n",
        "    history = []\n",
        "    for t, district in enumerate(districts, 1):\n",
        "        # Build assignment matrix\n",
        "        assignment = np.zeros((env.num_voters, env.num_districts), dtype=np.float32)\n",
        "\n",
        "        for v in range(env.num_voters):\n",
        "            if v in district:\n",
        "                assignment[v] = 1.0\n",
        "            # else:\n",
        "            #     assignment[v, 1] = 1.0\n",
        "        obs, reward, terminated, truncated, info = env.step(assignment, )\n",
        "\n",
        "        opinions = obs.opinion.squeeze().tolist()\n",
        "        reps = obs.reps.numpy().tolist()\n",
        "        history.append((opinions, reps))\n",
        "\n",
        "        print(f\"t={t}, reps={reps}, opinions={opinions}\")\n",
        "    return history"
      ],
      "metadata": {
        "id": "XG5FocTrTtz9"
      },
      "execution_count": 16,
      "outputs": []
    },
    {
      "cell_type": "code",
      "source": [
        "\n",
        "districts = [\n",
        "    [2,3,9],\n",
        "    [1,3,8],\n",
        "    [0,3,7],\n",
        "    [3,4,9],\n",
        "    [4,5,8],\n",
        "    [5,6,7],\n",
        "    [6,7,8],\n",
        "    [7,8,9]\n",
        "]\n",
        "\n",
        "history = run_inchworm(env, districts)"
      ],
      "metadata": {
        "colab": {
          "base_uri": "https://localhost:8080/"
        },
        "id": "1zhzjsuYTwIX",
        "outputId": "914cec2e-1e05-422f-b90a-39a6c502a300"
      },
      "execution_count": 17,
      "outputs": [
        {
          "output_type": "stream",
          "name": "stdout",
          "text": [
            "t=1, reps=[3], opinions=[0.0, 0.0, 1.0, 1.0, 2.0, 3.0, 4.0, 5.0, 5.0, 6.0]\n",
            "t=2, reps=[3], opinions=[0.0, 1.0, 1.0, 1.0, 2.0, 3.0, 4.0, 5.0, 6.0, 6.0]\n",
            "t=3, reps=[3], opinions=[1.0, 1.0, 1.0, 1.0, 2.0, 3.0, 4.0, 6.0, 6.0, 6.0]\n",
            "t=4, reps=[4], opinions=[1.0, 1.0, 1.0, 2.0, 2.0, 3.0, 4.0, 6.0, 6.0, 7.0]\n",
            "t=5, reps=[5], opinions=[1.0, 1.0, 1.0, 2.0, 3.0, 3.0, 4.0, 6.0, 7.0, 7.0]\n",
            "t=6, reps=[6], opinions=[1.0, 1.0, 1.0, 2.0, 3.0, 4.0, 4.0, 5.0, 7.0, 7.0]\n",
            "t=7, reps=[7], opinions=[1.0, 1.0, 1.0, 2.0, 3.0, 4.0, 5.0, 5.0, 6.0, 7.0]\n",
            "t=8, reps=[8], opinions=[1.0, 1.0, 1.0, 2.0, 3.0, 4.0, 5.0, 6.0, 6.0, 6.0]\n"
          ]
        },
        {
          "output_type": "stream",
          "name": "stderr",
          "text": [
            "/tmp/ipython-input-1470197557.py:30: DeprecationWarning: __array_wrap__ must accept context and return_scalar arguments (positionally) in the future. (Deprecated NumPy 2.0)\n",
            "  newX[v] = X[v] + updates[v] / norm_factors[v]\n",
            "/tmp/ipython-input-1470197557.py:30: DeprecationWarning: __array__ implementation doesn't accept a copy keyword, so passing copy=False failed. __array__ must implement 'dtype' and 'copy' keyword arguments.\n",
            "  newX[v] = X[v] + updates[v] / norm_factors[v]\n",
            "/tmp/ipython-input-1424268405.py:138: DeprecationWarning: __array_wrap__ must accept context and return_scalar arguments (positionally) in the future. (Deprecated NumPy 2.0)\n",
            "  old_d=np.linalg.norm(oldX-self.c_star,axis=1).sum()\n",
            "/tmp/ipython-input-3998842963.py:7: UserWarning: To copy construct from a tensor, it is recommended to use sourceTensor.detach().clone() or sourceTensor.detach().clone().requires_grad_(True), rather than torch.tensor(sourceTensor).\n",
            "  self.pos = torch.tensor(pos, dtype=torch.float32)\n",
            "/tmp/ipython-input-3998842963.py:15: UserWarning: To copy construct from a tensor, it is recommended to use sourceTensor.detach().clone() or sourceTensor.detach().clone().requires_grad_(True), rather than torch.tensor(sourceTensor).\n",
            "  self.geographical_edge = torch.tensor(geographical_edge, dtype=torch.long)\n"
          ]
        }
      ]
    }
  ]
}