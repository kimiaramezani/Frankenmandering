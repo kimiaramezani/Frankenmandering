{
  "nbformat": 4,
  "nbformat_minor": 0,
  "metadata": {
    "colab": {
      "provenance": []
    },
    "kernelspec": {
      "name": "python3",
      "display_name": "Python 3"
    },
    "language_info": {
      "name": "python"
    }
  },
  "cells": [
    {
      "cell_type": "code",
      "source": [
        "!pip install torch_geometric"
      ],
      "metadata": {
        "colab": {
          "base_uri": "https://localhost:8080/"
        },
        "id": "j7PJyuKxNG26",
        "outputId": "b305efad-05b3-483b-f6f0-7722b6073c24"
      },
      "execution_count": 1,
      "outputs": [
        {
          "output_type": "stream",
          "name": "stdout",
          "text": [
            "Requirement already satisfied: torch_geometric in /usr/local/lib/python3.12/dist-packages (2.6.1)\n",
            "Requirement already satisfied: aiohttp in /usr/local/lib/python3.12/dist-packages (from torch_geometric) (3.12.15)\n",
            "Requirement already satisfied: fsspec in /usr/local/lib/python3.12/dist-packages (from torch_geometric) (2025.3.0)\n",
            "Requirement already satisfied: jinja2 in /usr/local/lib/python3.12/dist-packages (from torch_geometric) (3.1.6)\n",
            "Requirement already satisfied: numpy in /usr/local/lib/python3.12/dist-packages (from torch_geometric) (2.0.2)\n",
            "Requirement already satisfied: psutil>=5.8.0 in /usr/local/lib/python3.12/dist-packages (from torch_geometric) (5.9.5)\n",
            "Requirement already satisfied: pyparsing in /usr/local/lib/python3.12/dist-packages (from torch_geometric) (3.2.4)\n",
            "Requirement already satisfied: requests in /usr/local/lib/python3.12/dist-packages (from torch_geometric) (2.32.4)\n",
            "Requirement already satisfied: tqdm in /usr/local/lib/python3.12/dist-packages (from torch_geometric) (4.67.1)\n",
            "Requirement already satisfied: aiohappyeyeballs>=2.5.0 in /usr/local/lib/python3.12/dist-packages (from aiohttp->torch_geometric) (2.6.1)\n",
            "Requirement already satisfied: aiosignal>=1.4.0 in /usr/local/lib/python3.12/dist-packages (from aiohttp->torch_geometric) (1.4.0)\n",
            "Requirement already satisfied: attrs>=17.3.0 in /usr/local/lib/python3.12/dist-packages (from aiohttp->torch_geometric) (25.3.0)\n",
            "Requirement already satisfied: frozenlist>=1.1.1 in /usr/local/lib/python3.12/dist-packages (from aiohttp->torch_geometric) (1.7.0)\n",
            "Requirement already satisfied: multidict<7.0,>=4.5 in /usr/local/lib/python3.12/dist-packages (from aiohttp->torch_geometric) (6.6.4)\n",
            "Requirement already satisfied: propcache>=0.2.0 in /usr/local/lib/python3.12/dist-packages (from aiohttp->torch_geometric) (0.3.2)\n",
            "Requirement already satisfied: yarl<2.0,>=1.17.0 in /usr/local/lib/python3.12/dist-packages (from aiohttp->torch_geometric) (1.20.1)\n",
            "Requirement already satisfied: MarkupSafe>=2.0 in /usr/local/lib/python3.12/dist-packages (from jinja2->torch_geometric) (3.0.2)\n",
            "Requirement already satisfied: charset_normalizer<4,>=2 in /usr/local/lib/python3.12/dist-packages (from requests->torch_geometric) (3.4.3)\n",
            "Requirement already satisfied: idna<4,>=2.5 in /usr/local/lib/python3.12/dist-packages (from requests->torch_geometric) (3.10)\n",
            "Requirement already satisfied: urllib3<3,>=1.21.1 in /usr/local/lib/python3.12/dist-packages (from requests->torch_geometric) (2.5.0)\n",
            "Requirement already satisfied: certifi>=2017.4.17 in /usr/local/lib/python3.12/dist-packages (from requests->torch_geometric) (2025.8.3)\n",
            "Requirement already satisfied: typing-extensions>=4.2 in /usr/local/lib/python3.12/dist-packages (from aiosignal>=1.4.0->aiohttp->torch_geometric) (4.15.0)\n"
          ]
        }
      ]
    },
    {
      "cell_type": "code",
      "source": [
        "import numpy as np\n",
        "import torch\n",
        "from torch_geometric.data import Data\n",
        "import gymnasium as gym\n",
        "from gymnasium import spaces\n",
        "import gerry_environment_13"
      ],
      "metadata": {
        "id": "ErlKBfKcRnP7"
      },
      "execution_count": 2,
      "outputs": []
    },
    {
      "cell_type": "code",
      "source": [],
      "metadata": {
        "id": "GXLeossttp_K"
      },
      "execution_count": 2,
      "outputs": []
    },
    {
      "cell_type": "markdown",
      "source": [
        "#Inch Worm Test"
      ],
      "metadata": {
        "id": "YhZz-785aN3B"
      }
    },
    {
      "cell_type": "code",
      "source": [
        "def normalize_array(data,min_val, max_val):\n",
        "\n",
        "  normal_array = (data - min_val) / (max_val - min_val)\n",
        "\n",
        "  return np.round(normal_array,2)"
      ],
      "metadata": {
        "id": "uoI1EwoGG644"
      },
      "execution_count": 3,
      "outputs": []
    },
    {
      "cell_type": "code",
      "source": [
        "import torch\n",
        "import numpy as np\n",
        "\n",
        "# ---- Setup initial data for inchworm ----\n",
        "num_voters = 10\n",
        "num_districts = 1\n",
        "init_opinions = np.array([0,0,0,1,2,3,4,5,5,5], dtype=np.float32).reshape(num_voters, 1)\n",
        "\n",
        "# trivial positions (not used in inchworm)\n",
        "pos = np.zeros((num_voters, 2), dtype=np.float32)\n",
        "\n",
        "# no base edges (inchworm works only via districting)\n",
        "so_edge = np.empty((2,0),dtype=np.int64)\n",
        "edge_attr  = np.empty((0,),dtype=np.float32)\n",
        "\n",
        "\n",
        "# initial geographical (everyone in district 0 for now)\n",
        "geographical_edge = np.zeros((num_voters, num_voters), dtype=np.float32)\n",
        "geographical_edge = [\n",
        "                      [0,0,0,1,0,0,0,0,0,0],\n",
        "                      [0,0,0,1,0,0,0,0,0,0],\n",
        "                      [0,0,0,1,0,0,0,0,0,0],\n",
        "                      [1,1,1,0,1,0,0,1,1,1],\n",
        "                      [0,0,0,1,0,1,0,0,1,1],\n",
        "                      [0,0,0,0,1,0,1,0,0,0],\n",
        "                      [0,0,0,0,0,1,0,1,0,0],\n",
        "                      [0,0,0,1,0,0,1,0,1,0],\n",
        "                      [0,0,0,1,1,0,0,1,0,1],\n",
        "                      [0,0,0,1,1,0,0,0,1,0]\n",
        "]\n",
        "\n",
        "dist_label = np.zeros(num_voters, dtype=np.int32)\n",
        "\n",
        "# no reps yet\n",
        "reps = [-1]*num_districts\n",
        "\n",
        "geographical_edge = []\n",
        "\n",
        "# pack into FrankenData\n",
        "init_data = gerry_environment_13.FrankenData(\n",
        "    social_edge=so_edge,\n",
        "    geographical_edge= geographical_edge,\n",
        "    orig_edge_num=2,\n",
        "    opinion=init_opinions,\n",
        "    pos=pos,\n",
        "    reps=reps,\n",
        "    dist_label=dist_label,\n",
        "    edge_attr=edge_attr\n",
        ")\n"
      ],
      "metadata": {
        "id": "i82Zlx-xEMDR"
      },
      "execution_count": 4,
      "outputs": []
    },
    {
      "cell_type": "code",
      "source": [
        "env = gerry_environment_13.FrankenmanderingEnv(num_voters=num_voters,\n",
        "                          num_districts=num_districts,\n",
        "                          FrankenData=init_data,\n",
        "                                               )\n",
        "\n",
        "# reset will now just deepcopy init_data\n",
        "obs, _ = env.reset()\n",
        "print(\"t=0:\", obs.opinion.squeeze().tolist())\n"
      ],
      "metadata": {
        "colab": {
          "base_uri": "https://localhost:8080/"
        },
        "id": "TPGK74z8R7f4",
        "outputId": "3a4aa823-4660-407f-cab2-e108d15c0f75"
      },
      "execution_count": 5,
      "outputs": [
        {
          "output_type": "stream",
          "name": "stdout",
          "text": [
            "t=0: [0.0, 0.0, 0.0, 1.0, 2.0, 3.0, 4.0, 5.0, 5.0, 5.0]\n"
          ]
        }
      ]
    },
    {
      "cell_type": "code",
      "source": [
        "def run_inchworm(env, districts):\n",
        "    history = []\n",
        "    for t, district in enumerate(districts, 1):\n",
        "        # Build assignment matrix\n",
        "        assignment = np.zeros((env.num_voters, env.num_districts), dtype=np.float32)\n",
        "        for v in range(env.num_voters):\n",
        "            if v in district:\n",
        "                assignment[v] = 1.0\n",
        "            # else:\n",
        "            #     assignment[v, 1] = 1.0\n",
        "\n",
        "        obs, reward, terminated, truncated, info = env.step(assignment)\n",
        "\n",
        "        opinions = obs.opinion.squeeze().tolist()\n",
        "        reps = obs.reps.numpy().tolist()\n",
        "        history.append((opinions, reps))\n",
        "\n",
        "        print(f\"t={t}, reps={reps}, opinions={opinions}\")\n",
        "    return history"
      ],
      "metadata": {
        "id": "y2PrS6QZWnvX"
      },
      "execution_count": 6,
      "outputs": []
    },
    {
      "cell_type": "code",
      "source": [
        "districts = [\n",
        "    [2,3,9],\n",
        "    [1,3,8],\n",
        "    [0,3,7],\n",
        "    [3,4,9],\n",
        "    [4,5,8],\n",
        "    [5,6,7],\n",
        "    [6,7,8],\n",
        "    [7,8,9]\n",
        "]\n",
        "\n",
        "history = run_inchworm(env, districts)"
      ],
      "metadata": {
        "colab": {
          "base_uri": "https://localhost:8080/"
        },
        "id": "y6UQ_OKTWj73",
        "outputId": "ed1283b9-e4fa-4f42-9f34-89cd42960cdd"
      },
      "execution_count": 7,
      "outputs": [
        {
          "output_type": "stream",
          "name": "stdout",
          "text": [
            "t=1, reps=[3], opinions=[0.0, 0.0, 1.0, 1.0, 2.0, 3.0, 4.0, 5.0, 5.0, 6.0]\n",
            "t=2, reps=[3], opinions=[0.0, 1.0, 1.0, 1.0, 2.0, 3.0, 4.0, 5.0, 6.0, 6.0]\n",
            "t=3, reps=[3], opinions=[1.0, 1.0, 1.0, 1.0, 2.0, 3.0, 4.0, 6.0, 6.0, 6.0]\n",
            "t=4, reps=[4], opinions=[1.0, 1.0, 1.0, 2.0, 2.0, 3.0, 4.0, 6.0, 6.0, 7.0]\n",
            "t=5, reps=[5], opinions=[1.0, 1.0, 1.0, 2.0, 3.0, 3.0, 4.0, 6.0, 7.0, 7.0]\n",
            "t=6, reps=[6], opinions=[1.0, 1.0, 1.0, 2.0, 3.0, 4.0, 4.0, 5.0, 7.0, 7.0]\n",
            "t=7, reps=[7], opinions=[1.0, 1.0, 1.0, 2.0, 3.0, 4.0, 5.0, 5.0, 6.0, 7.0]\n",
            "t=8, reps=[8], opinions=[1.0, 1.0, 1.0, 2.0, 3.0, 4.0, 5.0, 6.0, 6.0, 6.0]\n"
          ]
        },
        {
          "output_type": "stream",
          "name": "stderr",
          "text": [
            "/content/gerry_environment_13.py:64: UserWarning: To copy construct from a tensor, it is recommended to use sourceTensor.detach().clone() or sourceTensor.detach().clone().requires_grad_(True), rather than torch.tensor(sourceTensor).\n",
            "  self.pos = torch.tensor(pos, dtype=torch.float32)\n",
            "/content/gerry_environment_13.py:72: UserWarning: To copy construct from a tensor, it is recommended to use sourceTensor.detach().clone() or sourceTensor.detach().clone().requires_grad_(True), rather than torch.tensor(sourceTensor).\n",
            "  self.geographical_edge = torch.tensor(geographical_edge, dtype=torch.long)\n"
          ]
        }
      ]
    },
    {
      "cell_type": "code",
      "source": [
        "# import numpy as np\n",
        "# simple test\n",
        "# def update_opinion(voter_opinion, rep_opinion):\n",
        "#     \"\"\"Apply Inchworm update rule for a single voter.\"\"\"\n",
        "#     diff = rep_opinion - voter_opinion\n",
        "#     if abs(diff) < 3:\n",
        "#         return voter_opinion + np.sign(diff)\n",
        "#     else:\n",
        "#         return voter_opinion - np.sign(diff)\n",
        "\n",
        "# def elect_representative(district, opinions):\n",
        "#     \"\"\"Median voter becomes representative.\"\"\"\n",
        "#     members = sorted(district, key=lambda i: opinions[i])\n",
        "#     median_index = members[len(members) // 2]\n",
        "#     return median_index\n",
        "\n",
        "# def step_inchworm(opinions, district):\n",
        "#     \"\"\"Run one step of Inchworm given a district.\"\"\"\n",
        "#     rep = elect_representative(district, opinions)\n",
        "#     rep_opinion = opinions[rep]\n",
        "#     new_opinions = opinions.copy()\n",
        "\n",
        "#     for v in district:\n",
        "#         if v == rep:\n",
        "#             continue  # rep stays unchanged\n",
        "#         new_opinions[v] = update_opinion(opinions[v], rep_opinion)\n",
        "\n",
        "#     return new_opinions, rep\n",
        "\n",
        "\n",
        "\n",
        "# for t, d in enumerate(districts, 1):\n",
        "#     opinions, rep = step_inchworm(opinions, d)\n",
        "#     print(f\"t={t}, rep={rep}, opinions={opinions}\")\n",
        "\n",
        "# res : t=0: [0 0 0 1 2 3 4 5 5 5]\n",
        "# t=1, rep=3, opinions=[0 0 1 1 2 3 4 5 5 6]\n",
        "# t=2, rep=3, opinions=[0 1 1 1 2 3 4 5 6 6]\n",
        "# t=3, rep=3, opinions=[1 1 1 1 2 3 4 6 6 6]\n",
        "# t=4, rep=4, opinions=[1 1 1 2 2 3 4 6 6 7]\n",
        "# t=5, rep=5, opinions=[1 1 1 2 3 3 4 6 7 7]\n",
        "# t=6, rep=6, opinions=[1 1 1 2 3 4 4 5 7 7]\n",
        "# t=7, rep=7, opinions=[1 1 1 2 3 4 5 5 6 7]\n",
        "# t=8, rep=8, opinions=[1 1 1 2 3 4 5 6 6 6]\n"
      ],
      "metadata": {
        "id": "b4AfRk03wa4p"
      },
      "execution_count": 8,
      "outputs": []
    },
    {
      "cell_type": "code",
      "source": [],
      "metadata": {
        "id": "kzEjHLT98lQY"
      },
      "execution_count": 8,
      "outputs": []
    }
  ]
}