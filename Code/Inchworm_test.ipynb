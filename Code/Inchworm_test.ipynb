{
  "nbformat": 4,
  "nbformat_minor": 0,
  "metadata": {
    "colab": {
      "provenance": []
    },
    "kernelspec": {
      "name": "python3",
      "display_name": "Python 3"
    },
    "language_info": {
      "name": "python"
    }
  },
  "cells": [
    {
      "cell_type": "markdown",
      "source": [
        "##**Gerrymandering-Environment**\n",
        "\n",
        "    INITIAL STATE (provided externally via reset(options=...)):\n",
        "        - 'district_map'\n",
        "        - 'social_graph'\n",
        "        - 'opinions'     \n",
        "\n",
        "    ACTION:\n",
        "        - new district assignment for each voter\n",
        "\n",
        "    OBSERVATION (returned by reset/step):\n",
        "        {\n",
        "          'district_map'   : (num_voters,)\n",
        "          'representatives': (num_districts,)  # voter indices; -1 if empty district\n",
        "          'social_graph'   : (num_voters, num_voters)  # AUGMENTED: base social + rep->voter edges used for the step\n",
        "          'opinions'       : (num_voters, 2)\n",
        "          'opinion_graph'  : (num_voters, num_voters)  # similarity kernel derived from opinion distances\n",
        "        }\n",
        "\n",
        "    KEY LOGIC:\n",
        "      - Representatives: for each district, pick the member that minimizes the sum of L2 distances to members in that district (discrete 1-median).\n",
        "      - Opinion dynamics: DRF (assimilation/neutral/backfire) with weighted neighbor influence.\n",
        "      - Reward: reduction in total distance to reference opinion c*\n",
        "\n",
        "    Notes:\n",
        "      - Opinion weight = 1\n",
        "      - Opinion dimension is fixed at 2.\n",
        "      - We accept any districting action"
      ],
      "metadata": {
        "id": "YVPu0WeaABON"
      }
    },
    {
      "cell_type": "code",
      "source": [
        "!pip install torch_geometric"
      ],
      "metadata": {
        "colab": {
          "base_uri": "https://localhost:8080/"
        },
        "id": "j7PJyuKxNG26",
        "outputId": "79b0b03a-f04d-4148-afb8-40bd35f110a3"
      },
      "execution_count": 1,
      "outputs": [
        {
          "output_type": "stream",
          "name": "stdout",
          "text": [
            "Requirement already satisfied: torch_geometric in /usr/local/lib/python3.12/dist-packages (2.6.1)\n",
            "Requirement already satisfied: aiohttp in /usr/local/lib/python3.12/dist-packages (from torch_geometric) (3.12.15)\n",
            "Requirement already satisfied: fsspec in /usr/local/lib/python3.12/dist-packages (from torch_geometric) (2025.3.0)\n",
            "Requirement already satisfied: jinja2 in /usr/local/lib/python3.12/dist-packages (from torch_geometric) (3.1.6)\n",
            "Requirement already satisfied: numpy in /usr/local/lib/python3.12/dist-packages (from torch_geometric) (2.0.2)\n",
            "Requirement already satisfied: psutil>=5.8.0 in /usr/local/lib/python3.12/dist-packages (from torch_geometric) (5.9.5)\n",
            "Requirement already satisfied: pyparsing in /usr/local/lib/python3.12/dist-packages (from torch_geometric) (3.2.3)\n",
            "Requirement already satisfied: requests in /usr/local/lib/python3.12/dist-packages (from torch_geometric) (2.32.4)\n",
            "Requirement already satisfied: tqdm in /usr/local/lib/python3.12/dist-packages (from torch_geometric) (4.67.1)\n",
            "Requirement already satisfied: aiohappyeyeballs>=2.5.0 in /usr/local/lib/python3.12/dist-packages (from aiohttp->torch_geometric) (2.6.1)\n",
            "Requirement already satisfied: aiosignal>=1.4.0 in /usr/local/lib/python3.12/dist-packages (from aiohttp->torch_geometric) (1.4.0)\n",
            "Requirement already satisfied: attrs>=17.3.0 in /usr/local/lib/python3.12/dist-packages (from aiohttp->torch_geometric) (25.3.0)\n",
            "Requirement already satisfied: frozenlist>=1.1.1 in /usr/local/lib/python3.12/dist-packages (from aiohttp->torch_geometric) (1.7.0)\n",
            "Requirement already satisfied: multidict<7.0,>=4.5 in /usr/local/lib/python3.12/dist-packages (from aiohttp->torch_geometric) (6.6.4)\n",
            "Requirement already satisfied: propcache>=0.2.0 in /usr/local/lib/python3.12/dist-packages (from aiohttp->torch_geometric) (0.3.2)\n",
            "Requirement already satisfied: yarl<2.0,>=1.17.0 in /usr/local/lib/python3.12/dist-packages (from aiohttp->torch_geometric) (1.20.1)\n",
            "Requirement already satisfied: MarkupSafe>=2.0 in /usr/local/lib/python3.12/dist-packages (from jinja2->torch_geometric) (3.0.2)\n",
            "Requirement already satisfied: charset_normalizer<4,>=2 in /usr/local/lib/python3.12/dist-packages (from requests->torch_geometric) (3.4.3)\n",
            "Requirement already satisfied: idna<4,>=2.5 in /usr/local/lib/python3.12/dist-packages (from requests->torch_geometric) (3.10)\n",
            "Requirement already satisfied: urllib3<3,>=1.21.1 in /usr/local/lib/python3.12/dist-packages (from requests->torch_geometric) (2.5.0)\n",
            "Requirement already satisfied: certifi>=2017.4.17 in /usr/local/lib/python3.12/dist-packages (from requests->torch_geometric) (2025.8.3)\n",
            "Requirement already satisfied: typing-extensions>=4.2 in /usr/local/lib/python3.12/dist-packages (from aiosignal>=1.4.0->aiohttp->torch_geometric) (4.15.0)\n"
          ]
        }
      ]
    },
    {
      "cell_type": "code",
      "source": [
        "import numpy as np\n",
        "import torch\n",
        "from torch_geometric.data import Data\n",
        "import gymnasium as gym\n",
        "from gymnasium import spaces\n",
        "import gerry_environment"
      ],
      "metadata": {
        "id": "ErlKBfKcRnP7"
      },
      "execution_count": 2,
      "outputs": []
    },
    {
      "cell_type": "code",
      "source": [],
      "metadata": {
        "id": "GXLeossttp_K"
      },
      "execution_count": 2,
      "outputs": []
    },
    {
      "cell_type": "markdown",
      "source": [
        "#Inch Worm Test"
      ],
      "metadata": {
        "id": "YhZz-785aN3B"
      }
    },
    {
      "cell_type": "code",
      "source": [
        "# test data based on the inchworm example in the paper\n",
        "import itertools\n",
        "\n",
        "num_voters = 10\n",
        "num_districts = 1\n",
        "T = 8\n",
        "triple_size = 3\n",
        "opinion_dim = 1\n",
        "\n",
        "initial_opinions = np.array([[0,0,0,1,2,3,4,5,5,5]], dtype=float).reshape(num_voters,opinion_dim)\n",
        "traget_opinions = initial_opinions+1\n",
        "traget_opinions = traget_opinions.flatten()\n",
        "\n",
        "pos = np.arange(num_voters)[:,None]\n",
        "pos = np.hstack([pos, np.zeros_like(pos)])\n",
        "\n",
        "edges = []\n",
        "edge_index = np.empty((2,0), dtype=int)\n",
        "edge_attr = np.empty((0,), dtype=float)\n",
        "# edges = [(i,i+1) for i in range(num_voters-1)]\n",
        "# edge_index = np.array(edges+[(j,i) for i,j in edges]).T\n",
        "# edge_attr = np.ones(edge_index.shape[1])\n",
        "triple_sequence = [\n",
        "    (0, 3, 6),\n",
        "    (0, 4, 6),\n",
        "    (1, 5, 7),\n",
        "    (2, 4, 8),\n",
        "    (3, 5, 9),\n",
        "    (0, 1, 2),\n",
        "    (3, 4, 5),\n",
        "    (3, 4, 5),\n",
        "]\n",
        "\n",
        "env = gerry_environment.FrankenmanderingEnv(num_voters, num_districts,opinion_dim,8,0, traget_opinions)\n",
        "obs,_=env.reset(options={\"opinions\":initial_opinions,\"pos\":pos,\"edge_index\":edge_index,\"edge_attr\":edge_attr})\n",
        "\n",
        "y_cur = env._assignment.argmax(axis=1).astype(np.int32)"
      ],
      "metadata": {
        "id": "vhkhFzBGWb-G"
      },
      "execution_count": 3,
      "outputs": []
    },
    {
      "cell_type": "code",
      "source": [],
      "metadata": {
        "id": "z0nivmicrPSG"
      },
      "execution_count": 3,
      "outputs": []
    },
    {
      "cell_type": "code",
      "source": [
        "for t in range(T):\n",
        "    X = env._x.copy()\n",
        "    best_gain = -np.inf\n",
        "    best_trip = None\n",
        "    best_A = None\n",
        "\n",
        "    # try all possible triples of voters\n",
        "    for trip in itertools.combinations(range(num_voters), 3):\n",
        "        # build assignment: one triple, rest singletons\n",
        "        remaining = [v for v in range(num_voters) if v not in trip]   # keeps deterministic increasing order\n",
        "        groups = [list(trip)] + [[v] for v in remaining]\n",
        "\n",
        "        num_groups = len(groups)                    # = 1 + (num_voters - 3)\n",
        "        A = np.zeros((num_voters, num_groups))      # ensure shape matches actual groups\n",
        "        for j, group in enumerate(groups):\n",
        "            A[group, j] = 1.0\n",
        "\n",
        "        # simulate update\n",
        "        y = A.argmax(axis=1).astype(np.int64)\n",
        "        reps = env._elect_representatives_from_labels(y, X)\n",
        "        edge_index_aug, edge_attr_aug = env._augment_with_reps(env._edge_index, env._edge_attr, reps, y)\n",
        "        X_new = env._opinion_update(edge_index_aug, edge_attr_aug, X, eta=1.0)\n",
        "        gain = env._reward(X, X_new)\n",
        "\n",
        "        # check if this triple is better\n",
        "\n",
        "        if gain > best_gain:\n",
        "            best_gain = gain\n",
        "            best_trip = trip\n",
        "            best_A = A\n",
        "    if t==0:\n",
        "      print('best_gain=',best_gain)\n",
        "    if best_gain <0:\n",
        "          print(f\"t={t+1}, no improving triple found, stopping.\")\n",
        "          break\n",
        "    # commit the best action\n",
        "    obs, reward, terminated, truncated, info = env.step(best_A)\n",
        "    print(f\"t={t+1}, chosen triple={best_trip}, reward={reward}\")\n",
        "    print(\"opinions:\", env._x.flatten())\n",
        "    if terminated:\n",
        "        break\n"
      ],
      "metadata": {
        "colab": {
          "base_uri": "https://localhost:8080/"
        },
        "id": "9eZN8jdnRR-y",
        "outputId": "6602168f-62c0-4a21-f7f0-d3435805e35d"
      },
      "execution_count": 4,
      "outputs": [
        {
          "output_type": "stream",
          "name": "stdout",
          "text": [
            "best_gain= 2.0\n",
            "t=1, chosen triple=(0, 3, 6), reward=2.0\n",
            "opinions: [1. 0. 0. 1. 2. 3. 5. 5. 5. 5.]\n",
            "t=2, chosen triple=(0, 1, 7), reward=2.0\n",
            "opinions: [1. 1. 0. 1. 2. 3. 5. 6. 5. 5.]\n",
            "t=3, chosen triple=(0, 2, 8), reward=2.0\n",
            "opinions: [1. 1. 1. 1. 2. 3. 5. 6. 6. 5.]\n",
            "t=4, chosen triple=(3, 4, 9), reward=2.0\n",
            "opinions: [1. 1. 1. 2. 2. 3. 5. 6. 6. 6.]\n",
            "t=5, chosen triple=(0, 1, 2), reward=0.0\n",
            "opinions: [1. 1. 1. 2. 2. 3. 5. 6. 6. 6.]\n",
            "t=6, chosen triple=(0, 1, 2), reward=0.0\n",
            "opinions: [1. 1. 1. 2. 2. 3. 5. 6. 6. 6.]\n",
            "t=7, chosen triple=(0, 1, 2), reward=0.0\n",
            "opinions: [1. 1. 1. 2. 2. 3. 5. 6. 6. 6.]\n",
            "t=8, chosen triple=(0, 1, 2), reward=0.0\n",
            "opinions: [1. 1. 1. 2. 2. 3. 5. 6. 6. 6.]\n"
          ]
        }
      ]
    },
    {
      "cell_type": "code",
      "source": [],
      "metadata": {
        "id": "nvQ2p1_8fYVk"
      },
      "execution_count": 4,
      "outputs": []
    }
  ]
}