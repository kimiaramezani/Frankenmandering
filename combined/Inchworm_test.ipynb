{
  "cells": [
    {
      "cell_type": "code",
      "execution_count": 1,
      "metadata": {
        "colab": {
          "base_uri": "https://localhost:8080/"
        },
        "id": "j7PJyuKxNG26",
        "outputId": "3d4ed6f4-7ca3-429b-8786-e43761abd26a"
      },
      "outputs": [
        {
          "output_type": "stream",
          "name": "stdout",
          "text": [
            "Requirement already satisfied: torch_geometric in /usr/local/lib/python3.12/dist-packages (2.6.1)\n",
            "Requirement already satisfied: aiohttp in /usr/local/lib/python3.12/dist-packages (from torch_geometric) (3.12.15)\n",
            "Requirement already satisfied: fsspec in /usr/local/lib/python3.12/dist-packages (from torch_geometric) (2025.3.0)\n",
            "Requirement already satisfied: jinja2 in /usr/local/lib/python3.12/dist-packages (from torch_geometric) (3.1.6)\n",
            "Requirement already satisfied: numpy in /usr/local/lib/python3.12/dist-packages (from torch_geometric) (2.0.2)\n",
            "Requirement already satisfied: psutil>=5.8.0 in /usr/local/lib/python3.12/dist-packages (from torch_geometric) (5.9.5)\n",
            "Requirement already satisfied: pyparsing in /usr/local/lib/python3.12/dist-packages (from torch_geometric) (3.2.5)\n",
            "Requirement already satisfied: requests in /usr/local/lib/python3.12/dist-packages (from torch_geometric) (2.32.4)\n",
            "Requirement already satisfied: tqdm in /usr/local/lib/python3.12/dist-packages (from torch_geometric) (4.67.1)\n",
            "Requirement already satisfied: aiohappyeyeballs>=2.5.0 in /usr/local/lib/python3.12/dist-packages (from aiohttp->torch_geometric) (2.6.1)\n",
            "Requirement already satisfied: aiosignal>=1.4.0 in /usr/local/lib/python3.12/dist-packages (from aiohttp->torch_geometric) (1.4.0)\n",
            "Requirement already satisfied: attrs>=17.3.0 in /usr/local/lib/python3.12/dist-packages (from aiohttp->torch_geometric) (25.3.0)\n",
            "Requirement already satisfied: frozenlist>=1.1.1 in /usr/local/lib/python3.12/dist-packages (from aiohttp->torch_geometric) (1.7.0)\n",
            "Requirement already satisfied: multidict<7.0,>=4.5 in /usr/local/lib/python3.12/dist-packages (from aiohttp->torch_geometric) (6.6.4)\n",
            "Requirement already satisfied: propcache>=0.2.0 in /usr/local/lib/python3.12/dist-packages (from aiohttp->torch_geometric) (0.3.2)\n",
            "Requirement already satisfied: yarl<2.0,>=1.17.0 in /usr/local/lib/python3.12/dist-packages (from aiohttp->torch_geometric) (1.20.1)\n",
            "Requirement already satisfied: MarkupSafe>=2.0 in /usr/local/lib/python3.12/dist-packages (from jinja2->torch_geometric) (3.0.3)\n",
            "Requirement already satisfied: charset_normalizer<4,>=2 in /usr/local/lib/python3.12/dist-packages (from requests->torch_geometric) (3.4.3)\n",
            "Requirement already satisfied: idna<4,>=2.5 in /usr/local/lib/python3.12/dist-packages (from requests->torch_geometric) (3.10)\n",
            "Requirement already satisfied: urllib3<3,>=1.21.1 in /usr/local/lib/python3.12/dist-packages (from requests->torch_geometric) (2.5.0)\n",
            "Requirement already satisfied: certifi>=2017.4.17 in /usr/local/lib/python3.12/dist-packages (from requests->torch_geometric) (2025.8.3)\n",
            "Requirement already satisfied: typing-extensions>=4.2 in /usr/local/lib/python3.12/dist-packages (from aiosignal>=1.4.0->aiohttp->torch_geometric) (4.15.0)\n"
          ]
        }
      ],
      "source": [
        "!pip install torch_geometric"
      ]
    },
    {
      "cell_type": "code",
      "execution_count": 2,
      "metadata": {
        "id": "ErlKBfKcRnP7"
      },
      "outputs": [],
      "source": [
        "import numpy as np\n",
        "import torch\n",
        "from torch_geometric.data import Data\n",
        "import gymnasium as gym\n",
        "from gymnasium import spaces\n",
        "from gerry_environment_20 import FrankenmanderingEnv\n",
        "from graph_initiator import build_inchworm_init_data, build_inchworm_soc_init_data"
      ]
    },
    {
      "cell_type": "code",
      "execution_count": 2,
      "metadata": {
        "id": "GXLeossttp_K"
      },
      "outputs": [],
      "source": []
    },
    {
      "cell_type": "markdown",
      "metadata": {
        "id": "YhZz-785aN3B"
      },
      "source": [
        "#Inch Worm Test"
      ]
    },
    {
      "cell_type": "code",
      "execution_count": 3,
      "metadata": {
        "id": "y2PrS6QZWnvX"
      },
      "outputs": [],
      "source": [
        "def run_inchworm(env, districts, eps_indiff =0, eps_assim=3, eps_backfire=-3 , eps_irrel=200, eps_amb=0,\n",
        "                                                            assim_shift=1, back_shift=-1, indiff_shift=0, amb_shift=0, irr_shift=0):\n",
        "    history = []\n",
        "    for t, district in enumerate(districts, 1):\n",
        "        # Build assignment matrix\n",
        "        assignment = np.zeros((env.num_voters, env.num_districts), dtype=np.float32)\n",
        "        for v in range(env.num_voters):\n",
        "            if v in district:\n",
        "                assignment[v] = 1.0\n",
        "            # else:\n",
        "            #     assignment[v, 1] = 1.0\n",
        "\n",
        "        obs, reward, terminated, truncated, info = env.step(assignment,\n",
        "                                                            eps_indiff, eps_assim, eps_backfire , eps_irrel, eps_amb,\n",
        "                                                            assim_shift, back_shift, indiff_shift, amb_shift, irr_shift)\n",
        "\n",
        "        opinions = obs.opinion.squeeze().tolist()\n",
        "        reps = obs.reps\n",
        "        history.append((opinions, reps))\n",
        "\n",
        "        print(f\"t={t}, reps={reps}, opinions={opinions}, reward={reward}\")\n",
        "    return history"
      ]
    },
    {
      "cell_type": "markdown",
      "source": [
        "Inchworm with empty social graph"
      ],
      "metadata": {
        "id": "XfV1RUhAvHes"
      }
    },
    {
      "cell_type": "code",
      "source": [
        "init_inch_data, G_inch = build_inchworm_init_data()\n",
        "num_voters = init_inch_data.opinion.shape[0]\n",
        "num_districts = 1\n",
        "target_opinion = [1,1,1,2,3,4,5,6,6,6]\n",
        "env = FrankenmanderingEnv(num_voters=num_voters,\n",
        "                          num_districts=num_districts,\n",
        "                          FrankenData=init_inch_data,\n",
        "                          opinion_dim = 1,\n",
        "                    target_opinion =target_opinion\n",
        "                                               )\n",
        "\n",
        "obs, _ = env.reset()\n",
        "\n",
        "districts = [\n",
        "    [2,3,9],\n",
        "    [1,3,8],\n",
        "    [0,3,7],\n",
        "    [3,4,9],\n",
        "    [4,5,8],\n",
        "    [5,6,7],\n",
        "    [6,7,8],\n",
        "    [7,8,9]\n",
        "]\n",
        "history = run_inchworm(env, districts)"
      ],
      "metadata": {
        "colab": {
          "base_uri": "https://localhost:8080/"
        },
        "id": "CmuJEhHRvF0P",
        "outputId": "e65253a5-283c-4035-a125-ff77083988ed"
      },
      "execution_count": 4,
      "outputs": [
        {
          "output_type": "stream",
          "name": "stdout",
          "text": [
            "t=1, reps=[3], opinions=[0.0, 0.0, 1.0, 1.0, 2.0, 3.0, 4.0, 5.0, 5.0, 6.0], reward=1.9300003051757812\n",
            "t=2, reps=[3], opinions=[0.0, 1.0, 1.0, 1.0, 2.0, 3.0, 4.0, 5.0, 6.0, 6.0], reward=1.429999828338623\n",
            "t=3, reps=[3], opinions=[1.0, 1.0, 1.0, 1.0, 2.0, 3.0, 4.0, 6.0, 6.0, 6.0], reward=1.429999828338623\n",
            "t=4, reps=[4], opinions=[1.0, 1.0, 1.0, 2.0, 2.0, 3.0, 4.0, 6.0, 6.0, 7.0], reward=-0.06999993324279785\n",
            "t=5, reps=[5], opinions=[1.0, 1.0, 1.0, 2.0, 3.0, 3.0, 4.0, 6.0, 7.0, 7.0], reward=-0.06999993324279785\n",
            "t=6, reps=[6], opinions=[1.0, 1.0, 1.0, 2.0, 3.0, 4.0, 4.0, 5.0, 7.0, 7.0], reward=-0.06999993324279785\n",
            "t=7, reps=[7], opinions=[1.0, 1.0, 1.0, 2.0, 3.0, 4.0, 5.0, 5.0, 6.0, 7.0], reward=1.9300000667572021\n",
            "t=8, reps=[8], opinions=[1.0, 1.0, 1.0, 2.0, 3.0, 4.0, 5.0, 6.0, 6.0, 6.0], reward=1.9299999475479126\n"
          ]
        }
      ]
    },
    {
      "cell_type": "markdown",
      "source": [
        "Inchworm test with social graph"
      ],
      "metadata": {
        "id": "DwfvRNLWwEGW"
      }
    },
    {
      "cell_type": "code",
      "source": [
        "init_inch_soc_data, G_inch = build_inchworm_soc_init_data()\n",
        "\n",
        "num_voters = init_inch_soc_data.opinion.shape[0]\n",
        "num_districts = 1\n",
        "\n",
        "env = FrankenmanderingEnv(num_voters=num_voters,\n",
        "                          num_districts=num_districts,\n",
        "                          opinion_dim=1,\n",
        "                          FrankenData=init_inch_soc_data,\n",
        "                          target_opinion=[1,2,3,4,5,7])\n",
        "\n",
        "\n",
        "obs, _ = env.reset()\n",
        "\n",
        "districts = [\n",
        "    [0,1,5],\n",
        "    [0,1,5],\n",
        "    [0,1,5],\n",
        "    [0,1,5],\n",
        "    [0,1,5],\n",
        "    [0,1,5],\n",
        "    [0,1,5],\n",
        "    [0,1,5],\n",
        "]\n",
        "history = run_inchworm(env, districts, eps_indiff =2, eps_assim=4, eps_backfire=4 , eps_irrel=6, eps_amb=2,\n",
        "                                                            assim_shift=1, back_shift=-1, indiff_shift=0, amb_shift=0, irr_shift=0)\n"
      ],
      "metadata": {
        "id": "4iRNBLMQT9IN",
        "colab": {
          "base_uri": "https://localhost:8080/"
        },
        "outputId": "66b0ffcc-338a-4b90-9ed3-92c3e2e7e3c5"
      },
      "execution_count": 5,
      "outputs": [
        {
          "output_type": "stream",
          "name": "stdout",
          "text": [
            "t=1, reps=[1], opinions=[0.0, 1.0, 2.0, 3.0, 5.0, 6.0], reward=0.75\n",
            "t=2, reps=[1], opinions=[0.0, 1.0, 2.0, 4.0, 4.0, 7.0], reward=0.7833333015441895\n",
            "t=3, reps=[1], opinions=[0.0, 1.0, 3.0, 3.0, 5.0, 6.0], reward=-0.21666669845581055\n",
            "t=4, reps=[1], opinions=[0.0, 2.0, 2.0, 4.0, 4.0, 7.0], reward=0.7833333015441895\n",
            "t=5, reps=[1], opinions=[1.0, 1.0, 3.0, 3.0, 5.0, 7.0], reward=0.7833333015441895\n",
            "t=6, reps=[0], opinions=[1.0, 2.0, 2.0, 4.0, 5.0, 6.0], reward=-0.21666669845581055\n",
            "t=7, reps=[1], opinions=[1.0, 2.0, 3.0, 3.0, 5.0, 7.0], reward=0.7833333015441895\n",
            "t=8, reps=[1], opinions=[1.0, 2.0, 3.0, 4.0, 5.0, 7.0], reward=0.7833333015441895\n"
          ]
        }
      ]
    },
    {
      "cell_type": "code",
      "source": [],
      "metadata": {
        "id": "lxYWimqVYfr-"
      },
      "execution_count": 5,
      "outputs": []
    }
  ],
  "metadata": {
    "colab": {
      "provenance": []
    },
    "kernelspec": {
      "display_name": "Python 3",
      "name": "python3"
    },
    "language_info": {
      "name": "python"
    }
  },
  "nbformat": 4,
  "nbformat_minor": 0
}